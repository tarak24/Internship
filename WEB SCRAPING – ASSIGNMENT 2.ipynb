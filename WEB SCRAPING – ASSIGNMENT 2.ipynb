{
 "cells": [
  {
   "cell_type": "code",
   "execution_count": 1,
   "id": "dea9ba9d",
   "metadata": {},
   "outputs": [
    {
     "name": "stdout",
     "output_type": "stream",
     "text": [
      "Requirement already satisfied: selenium in c:\\users\\dell\\anaconda3\\lib\\site-packages (4.0.0)\n",
      "Requirement already satisfied: trio~=0.17 in c:\\users\\dell\\anaconda3\\lib\\site-packages (from selenium) (0.19.0)\n",
      "Requirement already satisfied: urllib3[secure]~=1.26 in c:\\users\\dell\\anaconda3\\lib\\site-packages (from selenium) (1.26.4)\n",
      "Requirement already satisfied: trio-websocket~=0.9 in c:\\users\\dell\\anaconda3\\lib\\site-packages (from selenium) (0.9.2)\n",
      "Requirement already satisfied: idna in c:\\users\\dell\\anaconda3\\lib\\site-packages (from trio~=0.17->selenium) (2.10)\n",
      "Requirement already satisfied: outcome in c:\\users\\dell\\anaconda3\\lib\\site-packages (from trio~=0.17->selenium) (1.1.0)\n",
      "Requirement already satisfied: sortedcontainers in c:\\users\\dell\\anaconda3\\lib\\site-packages (from trio~=0.17->selenium) (2.3.0)\n",
      "Requirement already satisfied: cffi>=1.14 in c:\\users\\dell\\anaconda3\\lib\\site-packages (from trio~=0.17->selenium) (1.14.5)\n",
      "Requirement already satisfied: async-generator>=1.9 in c:\\users\\dell\\anaconda3\\lib\\site-packages (from trio~=0.17->selenium) (1.10)\n",
      "Requirement already satisfied: sniffio in c:\\users\\dell\\anaconda3\\lib\\site-packages (from trio~=0.17->selenium) (1.2.0)\n",
      "Requirement already satisfied: attrs>=19.2.0 in c:\\users\\dell\\anaconda3\\lib\\site-packages (from trio~=0.17->selenium) (20.3.0)\n",
      "Requirement already satisfied: pycparser in c:\\users\\dell\\anaconda3\\lib\\site-packages (from cffi>=1.14->trio~=0.17->selenium) (2.20)\n",
      "Requirement already satisfied: wsproto>=0.14 in c:\\users\\dell\\anaconda3\\lib\\site-packages (from trio-websocket~=0.9->selenium) (1.0.0)\n",
      "Requirement already satisfied: pyOpenSSL>=0.14 in c:\\users\\dell\\anaconda3\\lib\\site-packages (from urllib3[secure]~=1.26->selenium) (20.0.1)\n",
      "Requirement already satisfied: cryptography>=1.3.4 in c:\\users\\dell\\anaconda3\\lib\\site-packages (from urllib3[secure]~=1.26->selenium) (3.4.7)\n",
      "Requirement already satisfied: certifi in c:\\users\\dell\\anaconda3\\lib\\site-packages (from urllib3[secure]~=1.26->selenium) (2020.12.5)\n",
      "Requirement already satisfied: six>=1.5.2 in c:\\users\\dell\\anaconda3\\lib\\site-packages (from pyOpenSSL>=0.14->urllib3[secure]~=1.26->selenium) (1.15.0)\n",
      "Requirement already satisfied: h11<1,>=0.9.0 in c:\\users\\dell\\anaconda3\\lib\\site-packages (from wsproto>=0.14->trio-websocket~=0.9->selenium) (0.12.0)\n"
     ]
    }
   ],
   "source": [
    "! pip install selenium"
   ]
  },
  {
   "cell_type": "code",
   "execution_count": 2,
   "id": "00f771ef",
   "metadata": {},
   "outputs": [],
   "source": [
    "import selenium\n",
    "import pandas as pd\n",
    "from selenium import webdriver"
   ]
  },
  {
   "cell_type": "code",
   "execution_count": 3,
   "id": "115b9439",
   "metadata": {},
   "outputs": [
    {
     "name": "stderr",
     "output_type": "stream",
     "text": [
      "<ipython-input-3-0af43046ad15>:1: DeprecationWarning: executable_path has been deprecated, please pass in a Service object\n",
      "  driver=webdriver.Chrome(r\"C:\\Users\\DELL\\Downloads\\chromedriver.exe\")\n"
     ]
    }
   ],
   "source": [
    "driver=webdriver.Chrome(r\"C:\\Users\\DELL\\Downloads\\chromedriver.exe\")"
   ]
  },
  {
   "cell_type": "markdown",
   "id": "2da8e741",
   "metadata": {},
   "source": [
    "## Q1"
   ]
  },
  {
   "cell_type": "code",
   "execution_count": 207,
   "id": "61a3e525",
   "metadata": {},
   "outputs": [],
   "source": [
    "driver.get('https://www.naukri.com/')"
   ]
  },
  {
   "cell_type": "code",
   "execution_count": 208,
   "id": "14b75ff4",
   "metadata": {},
   "outputs": [
    {
     "name": "stderr",
     "output_type": "stream",
     "text": [
      "<ipython-input-208-23539e556d88>:1: DeprecationWarning: find_element_by_* commands are deprecated. Please use find_element() instead\n",
      "  search_job=driver.find_element_by_id('qsb-keyword-sugg')\n",
      "<ipython-input-208-23539e556d88>:3: DeprecationWarning: find_element_by_* commands are deprecated. Please use find_element() instead\n",
      "  search_loc=driver.find_element_by_id('qsb-location-sugg')\n"
     ]
    }
   ],
   "source": [
    "search_job=driver.find_element_by_id('qsb-keyword-sugg')\n",
    "search_job.send_keys('Data Analyst')\n",
    "search_loc=driver.find_element_by_id('qsb-location-sugg')\n",
    "search_loc.send_keys('Bangalore')"
   ]
  },
  {
   "cell_type": "code",
   "execution_count": 209,
   "id": "1b865bba",
   "metadata": {},
   "outputs": [
    {
     "name": "stderr",
     "output_type": "stream",
     "text": [
      "<ipython-input-209-8db898a03ada>:1: DeprecationWarning: find_element_by_* commands are deprecated. Please use find_element() instead\n",
      "  search_btn=driver.find_element_by_xpath(\"//div[@class='search-btn']/button\")\n"
     ]
    }
   ],
   "source": [
    "search_btn=driver.find_element_by_xpath(\"//div[@class='search-btn']/button\")\n",
    "search_btn.click()"
   ]
  },
  {
   "cell_type": "code",
   "execution_count": 210,
   "id": "1a6f3ec5",
   "metadata": {},
   "outputs": [],
   "source": [
    "url=\"https://www.naukri.com/data-analyst-jobs-in-bangalore?k=data%20analyst&l=bangalore\""
   ]
  },
  {
   "cell_type": "code",
   "execution_count": 211,
   "id": "04ec2afb",
   "metadata": {},
   "outputs": [],
   "source": [
    "driver.get(url)"
   ]
  },
  {
   "cell_type": "code",
   "execution_count": 212,
   "id": "b177ad8a",
   "metadata": {},
   "outputs": [],
   "source": [
    "job_title=[]\n",
    "job_loc=[]\n",
    "comp_name=[]\n",
    "exp_req=[]"
   ]
  },
  {
   "cell_type": "code",
   "execution_count": 213,
   "id": "532ec73e",
   "metadata": {},
   "outputs": [
    {
     "name": "stderr",
     "output_type": "stream",
     "text": [
      "<ipython-input-213-13ceef640646>:1: DeprecationWarning: find_elements_by_* commands are deprecated. Please use find_elements() instead\n",
      "  title_tags=driver.find_elements_by_xpath(\"//a[@class='title fw500 ellipsis']\")\n"
     ]
    }
   ],
   "source": [
    "title_tags=driver.find_elements_by_xpath(\"//a[@class='title fw500 ellipsis']\")"
   ]
  },
  {
   "cell_type": "code",
   "execution_count": 214,
   "id": "751ec23b",
   "metadata": {},
   "outputs": [],
   "source": [
    "for i in title_tags:\n",
    "    i=i.text\n",
    "    job_title.append(i)\n",
    "job_title=job_title[:10]"
   ]
  },
  {
   "cell_type": "code",
   "execution_count": 215,
   "id": "0500b644",
   "metadata": {},
   "outputs": [
    {
     "name": "stderr",
     "output_type": "stream",
     "text": [
      "<ipython-input-215-1910a741bf18>:1: DeprecationWarning: find_elements_by_* commands are deprecated. Please use find_elements() instead\n",
      "  loc_tags=driver.find_elements_by_xpath(\"//li[@class='fleft grey-text br2 placeHolderLi location']/span\")\n"
     ]
    }
   ],
   "source": [
    "loc_tags=driver.find_elements_by_xpath(\"//li[@class='fleft grey-text br2 placeHolderLi location']/span\")"
   ]
  },
  {
   "cell_type": "code",
   "execution_count": 216,
   "id": "1bbc96b4",
   "metadata": {},
   "outputs": [],
   "source": [
    "for i in loc_tags:\n",
    "    i=i.text\n",
    "    job_loc.append(i)\n",
    "job_loc=job_loc[:10]"
   ]
  },
  {
   "cell_type": "code",
   "execution_count": 217,
   "id": "ef31408d",
   "metadata": {},
   "outputs": [
    {
     "name": "stderr",
     "output_type": "stream",
     "text": [
      "<ipython-input-217-a92997e4ec8e>:1: DeprecationWarning: find_elements_by_* commands are deprecated. Please use find_elements() instead\n",
      "  comp_tags=driver.find_elements_by_xpath(\"//a[@class='subTitle ellipsis fleft']\")\n"
     ]
    }
   ],
   "source": [
    "comp_tags=driver.find_elements_by_xpath(\"//a[@class='subTitle ellipsis fleft']\")"
   ]
  },
  {
   "cell_type": "code",
   "execution_count": 218,
   "id": "997e3995",
   "metadata": {},
   "outputs": [],
   "source": [
    "for i in comp_tags:\n",
    "    i=i.text\n",
    "    comp_name.append(i)\n",
    "comp_name=comp_name[:10]"
   ]
  },
  {
   "cell_type": "code",
   "execution_count": 219,
   "id": "925297c1",
   "metadata": {},
   "outputs": [
    {
     "name": "stderr",
     "output_type": "stream",
     "text": [
      "<ipython-input-219-01a7109322c7>:1: DeprecationWarning: find_elements_by_* commands are deprecated. Please use find_elements() instead\n",
      "  exp_tags=driver.find_elements_by_xpath(\"//li[@class='fleft grey-text br2 placeHolderLi experience']/span\")\n"
     ]
    }
   ],
   "source": [
    "exp_tags=driver.find_elements_by_xpath(\"//li[@class='fleft grey-text br2 placeHolderLi experience']/span\")"
   ]
  },
  {
   "cell_type": "code",
   "execution_count": 220,
   "id": "70cf3fbf",
   "metadata": {},
   "outputs": [],
   "source": [
    "for i in exp_tags:\n",
    "    i=i.text\n",
    "    exp_req.append(i)\n",
    "exp_req=exp_req[:10]"
   ]
  },
  {
   "cell_type": "code",
   "execution_count": 221,
   "id": "69e624ba",
   "metadata": {},
   "outputs": [
    {
     "data": {
      "text/html": [
       "<div>\n",
       "<style scoped>\n",
       "    .dataframe tbody tr th:only-of-type {\n",
       "        vertical-align: middle;\n",
       "    }\n",
       "\n",
       "    .dataframe tbody tr th {\n",
       "        vertical-align: top;\n",
       "    }\n",
       "\n",
       "    .dataframe thead th {\n",
       "        text-align: right;\n",
       "    }\n",
       "</style>\n",
       "<table border=\"1\" class=\"dataframe\">\n",
       "  <thead>\n",
       "    <tr style=\"text-align: right;\">\n",
       "      <th></th>\n",
       "      <th>job_Title</th>\n",
       "      <th>location</th>\n",
       "      <th>Company</th>\n",
       "      <th>experience</th>\n",
       "    </tr>\n",
       "  </thead>\n",
       "  <tbody>\n",
       "    <tr>\n",
       "      <th>0</th>\n",
       "      <td>Business Data Analyst(BigId) - Capco - Bangalore</td>\n",
       "      <td>Bangalore/Bengaluru</td>\n",
       "      <td>Capco Technologies Pvt Ltd</td>\n",
       "      <td>3-8 Yrs</td>\n",
       "    </tr>\n",
       "    <tr>\n",
       "      <th>1</th>\n",
       "      <td>Data Analyst - Flipkart Analytics</td>\n",
       "      <td>Bangalore/Bengaluru(Bellandur)</td>\n",
       "      <td>Flipkart</td>\n",
       "      <td>0-3 Yrs</td>\n",
       "    </tr>\n",
       "    <tr>\n",
       "      <th>2</th>\n",
       "      <td>Senior Data Analyst</td>\n",
       "      <td>Bangalore/Bengaluru</td>\n",
       "      <td>Pioneer Business Solutions</td>\n",
       "      <td>6-11 Yrs</td>\n",
       "    </tr>\n",
       "    <tr>\n",
       "      <th>3</th>\n",
       "      <td>Sr Data Analyst</td>\n",
       "      <td>Bangalore/Bengaluru</td>\n",
       "      <td>Pioneer Business Solutions</td>\n",
       "      <td>3-8 Yrs</td>\n",
       "    </tr>\n",
       "    <tr>\n",
       "      <th>4</th>\n",
       "      <td>Business Data Analyst - Database Design/Mining</td>\n",
       "      <td>Bangalore/Bengaluru</td>\n",
       "      <td>AugmatrixGo</td>\n",
       "      <td>2-5 Yrs</td>\n",
       "    </tr>\n",
       "    <tr>\n",
       "      <th>5</th>\n",
       "      <td>Opportunity For Business Data Analyst</td>\n",
       "      <td>Bangalore/Bengaluru, Mumbai (All Areas)</td>\n",
       "      <td>Botree Software International Private Limited</td>\n",
       "      <td>3-6 Yrs</td>\n",
       "    </tr>\n",
       "    <tr>\n",
       "      <th>6</th>\n",
       "      <td>Urgent Openings For Data Analyst / Business An...</td>\n",
       "      <td>Bangalore/Bengaluru</td>\n",
       "      <td>Flipkart</td>\n",
       "      <td>1-6 Yrs</td>\n",
       "    </tr>\n",
       "    <tr>\n",
       "      <th>7</th>\n",
       "      <td>Software Technologist II - Data Analyst</td>\n",
       "      <td>(WFH during Covid)</td>\n",
       "      <td>Philips India Limited</td>\n",
       "      <td>6-11 Yrs</td>\n",
       "    </tr>\n",
       "    <tr>\n",
       "      <th>8</th>\n",
       "      <td>Hiring For Data Analyst - Payment System Intel...</td>\n",
       "      <td>Bangalore/Bengaluru</td>\n",
       "      <td>Genpact</td>\n",
       "      <td>4-9 Yrs</td>\n",
       "    </tr>\n",
       "    <tr>\n",
       "      <th>9</th>\n",
       "      <td>Senior Data Analyst</td>\n",
       "      <td>Gurgaon/Gurugram, Bangalore/Bengaluru, Mumbai ...</td>\n",
       "      <td>Kwalee ltd.</td>\n",
       "      <td>5-10 Yrs</td>\n",
       "    </tr>\n",
       "  </tbody>\n",
       "</table>\n",
       "</div>"
      ],
      "text/plain": [
       "                                           job_Title  \\\n",
       "0   Business Data Analyst(BigId) - Capco - Bangalore   \n",
       "1                  Data Analyst - Flipkart Analytics   \n",
       "2                                Senior Data Analyst   \n",
       "3                                    Sr Data Analyst   \n",
       "4     Business Data Analyst - Database Design/Mining   \n",
       "5              Opportunity For Business Data Analyst   \n",
       "6  Urgent Openings For Data Analyst / Business An...   \n",
       "7            Software Technologist II - Data Analyst   \n",
       "8  Hiring For Data Analyst - Payment System Intel...   \n",
       "9                                Senior Data Analyst   \n",
       "\n",
       "                                            location  \\\n",
       "0                                Bangalore/Bengaluru   \n",
       "1                     Bangalore/Bengaluru(Bellandur)   \n",
       "2                                Bangalore/Bengaluru   \n",
       "3                                Bangalore/Bengaluru   \n",
       "4                                Bangalore/Bengaluru   \n",
       "5            Bangalore/Bengaluru, Mumbai (All Areas)   \n",
       "6                                Bangalore/Bengaluru   \n",
       "7                                 (WFH during Covid)   \n",
       "8                                Bangalore/Bengaluru   \n",
       "9  Gurgaon/Gurugram, Bangalore/Bengaluru, Mumbai ...   \n",
       "\n",
       "                                         Company experience  \n",
       "0                     Capco Technologies Pvt Ltd    3-8 Yrs  \n",
       "1                                       Flipkart    0-3 Yrs  \n",
       "2                     Pioneer Business Solutions   6-11 Yrs  \n",
       "3                     Pioneer Business Solutions    3-8 Yrs  \n",
       "4                                    AugmatrixGo    2-5 Yrs  \n",
       "5  Botree Software International Private Limited    3-6 Yrs  \n",
       "6                                       Flipkart    1-6 Yrs  \n",
       "7                          Philips India Limited   6-11 Yrs  \n",
       "8                                        Genpact    4-9 Yrs  \n",
       "9                                    Kwalee ltd.   5-10 Yrs  "
      ]
     },
     "execution_count": 221,
     "metadata": {},
     "output_type": "execute_result"
    }
   ],
   "source": [
    "jobs=pd.DataFrame({})\n",
    "jobs['job_Title']=job_title\n",
    "jobs['location']=job_loc\n",
    "jobs['Company']=comp_name\n",
    "jobs['experience']=exp_req\n",
    "jobs"
   ]
  },
  {
   "cell_type": "markdown",
   "id": "fd70adc0",
   "metadata": {},
   "source": [
    "## Q2"
   ]
  },
  {
   "cell_type": "code",
   "execution_count": 222,
   "id": "c0ceb29e",
   "metadata": {},
   "outputs": [],
   "source": [
    "driver.get('https://www.naukri.com/')"
   ]
  },
  {
   "cell_type": "code",
   "execution_count": 223,
   "id": "835a6d77",
   "metadata": {},
   "outputs": [
    {
     "name": "stderr",
     "output_type": "stream",
     "text": [
      "<ipython-input-223-c34abcdd39f9>:1: DeprecationWarning: find_element_by_* commands are deprecated. Please use find_element() instead\n",
      "  search_job=driver.find_element_by_id('qsb-keyword-sugg')\n",
      "<ipython-input-223-c34abcdd39f9>:3: DeprecationWarning: find_element_by_* commands are deprecated. Please use find_element() instead\n",
      "  search_loc=driver.find_element_by_id('qsb-location-sugg')\n"
     ]
    }
   ],
   "source": [
    "search_job=driver.find_element_by_id('qsb-keyword-sugg')\n",
    "search_job.send_keys('Data Scientist')\n",
    "search_loc=driver.find_element_by_id('qsb-location-sugg')\n",
    "search_loc.send_keys('Bangalore')"
   ]
  },
  {
   "cell_type": "code",
   "execution_count": 224,
   "id": "13c5a31d",
   "metadata": {},
   "outputs": [
    {
     "name": "stderr",
     "output_type": "stream",
     "text": [
      "<ipython-input-224-8db898a03ada>:1: DeprecationWarning: find_element_by_* commands are deprecated. Please use find_element() instead\n",
      "  search_btn=driver.find_element_by_xpath(\"//div[@class='search-btn']/button\")\n"
     ]
    }
   ],
   "source": [
    "search_btn=driver.find_element_by_xpath(\"//div[@class='search-btn']/button\")\n",
    "search_btn.click()"
   ]
  },
  {
   "cell_type": "code",
   "execution_count": 225,
   "id": "b746de95",
   "metadata": {},
   "outputs": [],
   "source": [
    "url=\"https://www.naukri.com/data-scientist-jobs-in-bangalore?k=data%20scientist&l=bangalore\"\n",
    "driver.get(url)"
   ]
  },
  {
   "cell_type": "code",
   "execution_count": 226,
   "id": "ebf9a416",
   "metadata": {},
   "outputs": [],
   "source": [
    "job_title=[]\n",
    "job_loc=[]\n",
    "comp_name=[]"
   ]
  },
  {
   "cell_type": "code",
   "execution_count": 227,
   "id": "0d41ac92",
   "metadata": {},
   "outputs": [
    {
     "name": "stderr",
     "output_type": "stream",
     "text": [
      "<ipython-input-227-54745a0381a4>:1: DeprecationWarning: find_elements_by_* commands are deprecated. Please use find_elements() instead\n",
      "  title_tags=driver.find_elements_by_xpath(\"//a[@class='title fw500 ellipsis']\")\n"
     ]
    }
   ],
   "source": [
    "title_tags=driver.find_elements_by_xpath(\"//a[@class='title fw500 ellipsis']\")\n",
    "for i in title_tags:\n",
    "    i=i.text\n",
    "    job_title.append(i)\n",
    "job_title=job_title[:10]"
   ]
  },
  {
   "cell_type": "code",
   "execution_count": 228,
   "id": "a24be8e1",
   "metadata": {},
   "outputs": [
    {
     "name": "stderr",
     "output_type": "stream",
     "text": [
      "<ipython-input-228-6aa3a0200a0e>:1: DeprecationWarning: find_elements_by_* commands are deprecated. Please use find_elements() instead\n",
      "  loc_tags=driver.find_elements_by_xpath(\"//li[@class='fleft grey-text br2 placeHolderLi location']/span\")\n"
     ]
    }
   ],
   "source": [
    "loc_tags=driver.find_elements_by_xpath(\"//li[@class='fleft grey-text br2 placeHolderLi location']/span\")\n",
    "for i in loc_tags:\n",
    "    i=i.text\n",
    "    job_loc.append(i)\n",
    "job_loc=job_loc[:10]"
   ]
  },
  {
   "cell_type": "code",
   "execution_count": 229,
   "id": "db4076ff",
   "metadata": {},
   "outputs": [
    {
     "name": "stderr",
     "output_type": "stream",
     "text": [
      "<ipython-input-229-a65c0f03660c>:1: DeprecationWarning: find_elements_by_* commands are deprecated. Please use find_elements() instead\n",
      "  comp_tags=driver.find_elements_by_xpath(\"//a[@class='subTitle ellipsis fleft']\")\n"
     ]
    }
   ],
   "source": [
    "comp_tags=driver.find_elements_by_xpath(\"//a[@class='subTitle ellipsis fleft']\")\n",
    "for i in comp_tags:\n",
    "    i=i.text\n",
    "    comp_name.append(i)\n",
    "comp_name=comp_name[:10]"
   ]
  },
  {
   "cell_type": "code",
   "execution_count": 230,
   "id": "22200387",
   "metadata": {},
   "outputs": [
    {
     "data": {
      "text/html": [
       "<div>\n",
       "<style scoped>\n",
       "    .dataframe tbody tr th:only-of-type {\n",
       "        vertical-align: middle;\n",
       "    }\n",
       "\n",
       "    .dataframe tbody tr th {\n",
       "        vertical-align: top;\n",
       "    }\n",
       "\n",
       "    .dataframe thead th {\n",
       "        text-align: right;\n",
       "    }\n",
       "</style>\n",
       "<table border=\"1\" class=\"dataframe\">\n",
       "  <thead>\n",
       "    <tr style=\"text-align: right;\">\n",
       "      <th></th>\n",
       "      <th>job_Title</th>\n",
       "      <th>location</th>\n",
       "      <th>Company</th>\n",
       "    </tr>\n",
       "  </thead>\n",
       "  <tbody>\n",
       "    <tr>\n",
       "      <th>0</th>\n",
       "      <td>Senior Data Scientist</td>\n",
       "      <td>Bangalore/Bengaluru</td>\n",
       "      <td>Kwalee India Pvt Ltd.</td>\n",
       "    </tr>\n",
       "    <tr>\n",
       "      <th>1</th>\n",
       "      <td>Data Scientist /Senior Data Scientist</td>\n",
       "      <td>Chennai, Bangalore/Bengaluru</td>\n",
       "      <td>Dun &amp; Bradstreet</td>\n",
       "    </tr>\n",
       "    <tr>\n",
       "      <th>2</th>\n",
       "      <td>Data Scientist</td>\n",
       "      <td>(WFH during Covid)</td>\n",
       "      <td>Visa</td>\n",
       "    </tr>\n",
       "    <tr>\n",
       "      <th>3</th>\n",
       "      <td>Lead Data Scientist</td>\n",
       "      <td>Bangalore/Bengaluru</td>\n",
       "      <td>Team4Progress</td>\n",
       "    </tr>\n",
       "    <tr>\n",
       "      <th>4</th>\n",
       "      <td>Lead Data Scientist</td>\n",
       "      <td>Mumbai, Pune, Bangalore/Bengaluru</td>\n",
       "      <td>TransOrg Solutions Services (P) Ltd.</td>\n",
       "    </tr>\n",
       "    <tr>\n",
       "      <th>5</th>\n",
       "      <td>Senior Data Scientist / Tech Lead - SQL / Pyth...</td>\n",
       "      <td>Bangalore/Bengaluru, Delhi / NCR, Mumbai (All ...</td>\n",
       "      <td>Exploro Solutions</td>\n",
       "    </tr>\n",
       "    <tr>\n",
       "      <th>6</th>\n",
       "      <td>Senior / Lead Data Scientist</td>\n",
       "      <td>(WFH during Covid)</td>\n",
       "      <td>CoreEdge Solutions</td>\n",
       "    </tr>\n",
       "    <tr>\n",
       "      <th>7</th>\n",
       "      <td>Forecasting Analyst/ Data Scientist (US Client)</td>\n",
       "      <td>Pune, Chennai, Bangalore/Bengaluru</td>\n",
       "      <td>Concentrix Daksh Services</td>\n",
       "    </tr>\n",
       "    <tr>\n",
       "      <th>8</th>\n",
       "      <td>Data Scientist, Agribusiness Intelligence</td>\n",
       "      <td>Hyderabad/Secunderabad, Pune, Bangalore/Bengaluru</td>\n",
       "      <td>IHS Markit</td>\n",
       "    </tr>\n",
       "    <tr>\n",
       "      <th>9</th>\n",
       "      <td>Data Scientist</td>\n",
       "      <td>Gurgaon/Gurugram, Bangalore/Bengaluru</td>\n",
       "      <td>Kwalee India Pvt Ltd.</td>\n",
       "    </tr>\n",
       "  </tbody>\n",
       "</table>\n",
       "</div>"
      ],
      "text/plain": [
       "                                           job_Title  \\\n",
       "0                              Senior Data Scientist   \n",
       "1              Data Scientist /Senior Data Scientist   \n",
       "2                                     Data Scientist   \n",
       "3                                Lead Data Scientist   \n",
       "4                                Lead Data Scientist   \n",
       "5  Senior Data Scientist / Tech Lead - SQL / Pyth...   \n",
       "6                       Senior / Lead Data Scientist   \n",
       "7    Forecasting Analyst/ Data Scientist (US Client)   \n",
       "8          Data Scientist, Agribusiness Intelligence   \n",
       "9                                     Data Scientist   \n",
       "\n",
       "                                            location  \\\n",
       "0                                Bangalore/Bengaluru   \n",
       "1                       Chennai, Bangalore/Bengaluru   \n",
       "2                                 (WFH during Covid)   \n",
       "3                                Bangalore/Bengaluru   \n",
       "4                  Mumbai, Pune, Bangalore/Bengaluru   \n",
       "5  Bangalore/Bengaluru, Delhi / NCR, Mumbai (All ...   \n",
       "6                                 (WFH during Covid)   \n",
       "7                 Pune, Chennai, Bangalore/Bengaluru   \n",
       "8  Hyderabad/Secunderabad, Pune, Bangalore/Bengaluru   \n",
       "9              Gurgaon/Gurugram, Bangalore/Bengaluru   \n",
       "\n",
       "                                Company  \n",
       "0                 Kwalee India Pvt Ltd.  \n",
       "1                      Dun & Bradstreet  \n",
       "2                                  Visa  \n",
       "3                         Team4Progress  \n",
       "4  TransOrg Solutions Services (P) Ltd.  \n",
       "5                     Exploro Solutions  \n",
       "6                    CoreEdge Solutions  \n",
       "7             Concentrix Daksh Services  \n",
       "8                            IHS Markit  \n",
       "9                 Kwalee India Pvt Ltd.  "
      ]
     },
     "execution_count": 230,
     "metadata": {},
     "output_type": "execute_result"
    }
   ],
   "source": [
    "jobs=pd.DataFrame({})\n",
    "jobs['job_Title']=job_title\n",
    "jobs['location']=job_loc\n",
    "jobs['Company']=comp_name\n",
    "jobs"
   ]
  },
  {
   "cell_type": "markdown",
   "id": "654b4e40",
   "metadata": {},
   "source": [
    "## Q3"
   ]
  },
  {
   "cell_type": "code",
   "execution_count": 231,
   "id": "6ec0236d",
   "metadata": {},
   "outputs": [],
   "source": [
    "driver.get('https://www.naukri.com/')"
   ]
  },
  {
   "cell_type": "code",
   "execution_count": 232,
   "id": "332b4931",
   "metadata": {},
   "outputs": [
    {
     "name": "stderr",
     "output_type": "stream",
     "text": [
      "<ipython-input-232-231d53600241>:1: DeprecationWarning: find_element_by_* commands are deprecated. Please use find_element() instead\n",
      "  search_job=driver.find_element_by_id('qsb-keyword-sugg')\n",
      "<ipython-input-232-231d53600241>:3: DeprecationWarning: find_element_by_* commands are deprecated. Please use find_element() instead\n",
      "  search_btn=driver.find_element_by_xpath(\"//div[@class='search-btn']/button\")\n"
     ]
    }
   ],
   "source": [
    "search_job=driver.find_element_by_id('qsb-keyword-sugg')\n",
    "search_job.send_keys('Data Scientist')\n",
    "search_btn=driver.find_element_by_xpath(\"//div[@class='search-btn']/button\")\n",
    "search_btn.click()"
   ]
  },
  {
   "cell_type": "code",
   "execution_count": 233,
   "id": "db6dd723",
   "metadata": {},
   "outputs": [],
   "source": [
    "url=\"https://www.naukri.com/data-scientist-jobs?k=data%20scientist\"\n",
    "driver.get(url)"
   ]
  },
  {
   "cell_type": "code",
   "execution_count": 234,
   "id": "15fad109",
   "metadata": {},
   "outputs": [
    {
     "name": "stderr",
     "output_type": "stream",
     "text": [
      "<ipython-input-234-a0c48ac8d917>:1: DeprecationWarning: find_element_by_* commands are deprecated. Please use find_element() instead\n",
      "  locn_filter = driver.find_element_by_xpath(\"/html/body/div[1]/div[3]/div[2]/section[1]/div[2]/div[3]/div[2]/div[3]/label/i\")\n"
     ]
    }
   ],
   "source": [
    "locn_filter = driver.find_element_by_xpath(\"/html/body/div[1]/div[3]/div[2]/section[1]/div[2]/div[3]/div[2]/div[3]/label/i\")\n",
    "locn_filter.click()"
   ]
  },
  {
   "cell_type": "code",
   "execution_count": 235,
   "id": "21d64edb",
   "metadata": {},
   "outputs": [],
   "source": [
    "url=\"https://www.naukri.com/data-scientist-jobs?k=data%20scientist&cityTypeGid=9508\"\n",
    "driver.get(url)"
   ]
  },
  {
   "cell_type": "code",
   "execution_count": 237,
   "id": "20102303",
   "metadata": {},
   "outputs": [
    {
     "name": "stderr",
     "output_type": "stream",
     "text": [
      "<ipython-input-237-c21d172cd1ef>:1: DeprecationWarning: find_element_by_* commands are deprecated. Please use find_element() instead\n",
      "  sal_filter = driver.find_element_by_xpath(\"/html/body/div[1]/div[3]/div[2]/section[1]/div[2]/div[4]/div[2]/div[2]/label/i\")\n"
     ]
    }
   ],
   "source": [
    "sal_filter = driver.find_element_by_xpath(\"/html/body/div[1]/div[3]/div[2]/section[1]/div[2]/div[4]/div[2]/div[2]/label/i\")\n",
    "sal_filter.click()"
   ]
  },
  {
   "cell_type": "code",
   "execution_count": 238,
   "id": "bf8c1e58",
   "metadata": {},
   "outputs": [],
   "source": [
    "url=\"https://www.naukri.com/data-scientist-jobs?k=data%20scientist&cityTypeGid=9508&ctcFilter=3to6\"\n",
    "driver.get(url)"
   ]
  },
  {
   "cell_type": "code",
   "execution_count": 239,
   "id": "9bd1c8cc",
   "metadata": {},
   "outputs": [],
   "source": [
    "job_title=[]\n",
    "job_loc=[]\n",
    "comp_name=[]\n",
    "exp_req=[]"
   ]
  },
  {
   "cell_type": "code",
   "execution_count": 240,
   "id": "12ba0d62",
   "metadata": {},
   "outputs": [
    {
     "name": "stderr",
     "output_type": "stream",
     "text": [
      "<ipython-input-240-82cd6422eae8>:1: DeprecationWarning: find_elements_by_* commands are deprecated. Please use find_elements() instead\n",
      "  title_tags=driver.find_elements_by_xpath(\"//a[@class='title fw500 ellipsis']\")\n",
      "<ipython-input-240-82cd6422eae8>:5: DeprecationWarning: find_elements_by_* commands are deprecated. Please use find_elements() instead\n",
      "  loc_tags=driver.find_elements_by_xpath(\"//li[@class='fleft grey-text br2 placeHolderLi location']/span\")\n",
      "<ipython-input-240-82cd6422eae8>:9: DeprecationWarning: find_elements_by_* commands are deprecated. Please use find_elements() instead\n",
      "  comp_tags=driver.find_elements_by_xpath(\"//a[@class='subTitle ellipsis fleft']\")\n",
      "<ipython-input-240-82cd6422eae8>:13: DeprecationWarning: find_elements_by_* commands are deprecated. Please use find_elements() instead\n",
      "  exp_tags=driver.find_elements_by_xpath(\"//li[@class='fleft grey-text br2 placeHolderLi experience']/span\")\n"
     ]
    }
   ],
   "source": [
    "title_tags=driver.find_elements_by_xpath(\"//a[@class='title fw500 ellipsis']\")\n",
    "for i in title_tags:\n",
    "    i=i.text\n",
    "    job_title.append(i)\n",
    "loc_tags=driver.find_elements_by_xpath(\"//li[@class='fleft grey-text br2 placeHolderLi location']/span\")\n",
    "for i in loc_tags:\n",
    "    i=i.text\n",
    "    job_loc.append(i)\n",
    "comp_tags=driver.find_elements_by_xpath(\"//a[@class='subTitle ellipsis fleft']\")\n",
    "for i in comp_tags:\n",
    "    i=i.text\n",
    "    comp_name.append(i)\n",
    "exp_tags=driver.find_elements_by_xpath(\"//li[@class='fleft grey-text br2 placeHolderLi experience']/span\")\n",
    "for i in exp_tags:\n",
    "    i=i.text\n",
    "    exp_req.append(i)"
   ]
  },
  {
   "cell_type": "code",
   "execution_count": 241,
   "id": "a45d935c",
   "metadata": {},
   "outputs": [],
   "source": [
    "job_title=job_title[:10]\n",
    "job_loc=job_loc[:10]\n",
    "comp_name=comp_name[:10]\n",
    "exp_req=exp_req[:10]"
   ]
  },
  {
   "cell_type": "code",
   "execution_count": 242,
   "id": "fe3af196",
   "metadata": {},
   "outputs": [],
   "source": [
    "jobs=pd.DataFrame({})\n",
    "jobs['job_Title']=job_title\n",
    "jobs['location']=job_loc\n",
    "jobs['Company']=comp_name\n",
    "jobs['experience']=exp_req"
   ]
  },
  {
   "cell_type": "code",
   "execution_count": 243,
   "id": "a56ff961",
   "metadata": {},
   "outputs": [
    {
     "data": {
      "text/html": [
       "<div>\n",
       "<style scoped>\n",
       "    .dataframe tbody tr th:only-of-type {\n",
       "        vertical-align: middle;\n",
       "    }\n",
       "\n",
       "    .dataframe tbody tr th {\n",
       "        vertical-align: top;\n",
       "    }\n",
       "\n",
       "    .dataframe thead th {\n",
       "        text-align: right;\n",
       "    }\n",
       "</style>\n",
       "<table border=\"1\" class=\"dataframe\">\n",
       "  <thead>\n",
       "    <tr style=\"text-align: right;\">\n",
       "      <th></th>\n",
       "      <th>job_Title</th>\n",
       "      <th>location</th>\n",
       "      <th>Company</th>\n",
       "      <th>experience</th>\n",
       "    </tr>\n",
       "  </thead>\n",
       "  <tbody>\n",
       "    <tr>\n",
       "      <th>0</th>\n",
       "      <td>Data Scientist</td>\n",
       "      <td>Kochi/Cochin, Kolkata, Hyderabad/Secunderabad,...</td>\n",
       "      <td>Think i</td>\n",
       "      <td>0-2 Yrs</td>\n",
       "    </tr>\n",
       "    <tr>\n",
       "      <th>1</th>\n",
       "      <td>Data Scientist</td>\n",
       "      <td>Pune, Bangalore/Bengaluru, Delhi / NCR</td>\n",
       "      <td>ThinkBumblebee Analytics Pvt. Ltd.</td>\n",
       "      <td>2-6 Yrs</td>\n",
       "    </tr>\n",
       "    <tr>\n",
       "      <th>2</th>\n",
       "      <td>Data Scientist III-2</td>\n",
       "      <td>(WFH during Covid)</td>\n",
       "      <td>Concentrix Daksh Services</td>\n",
       "      <td>3-8 Yrs</td>\n",
       "    </tr>\n",
       "    <tr>\n",
       "      <th>3</th>\n",
       "      <td>Job Opportunity || Data Scientist || HCL Techn...</td>\n",
       "      <td>Gurgaon/Gurugram</td>\n",
       "      <td>HCL Technologies</td>\n",
       "      <td>4-7 Yrs</td>\n",
       "    </tr>\n",
       "    <tr>\n",
       "      <th>4</th>\n",
       "      <td>Data Scientist</td>\n",
       "      <td>Delhi / NCR</td>\n",
       "      <td>MoMagic Technologies Pvt. Ltd.</td>\n",
       "      <td>4-6 Yrs</td>\n",
       "    </tr>\n",
       "    <tr>\n",
       "      <th>5</th>\n",
       "      <td>Data Scientist</td>\n",
       "      <td>Noida(Sector-126 Noida)</td>\n",
       "      <td>MoMagic Technologies Pvt. Ltd.</td>\n",
       "      <td>4-6 Yrs</td>\n",
       "    </tr>\n",
       "    <tr>\n",
       "      <th>6</th>\n",
       "      <td>Urgent Hiring || Data Scientist || Delhi</td>\n",
       "      <td>Noida(Sector-126 Noida)</td>\n",
       "      <td>Shriram Automall India Limited</td>\n",
       "      <td>2-7 Yrs</td>\n",
       "    </tr>\n",
       "    <tr>\n",
       "      <th>7</th>\n",
       "      <td>Data Scientist</td>\n",
       "      <td>Delhi / NCR</td>\n",
       "      <td>SVK Global Solutions Private Limited</td>\n",
       "      <td>6-10 Yrs</td>\n",
       "    </tr>\n",
       "    <tr>\n",
       "      <th>8</th>\n",
       "      <td>Data Scientist Internship</td>\n",
       "      <td>Noida</td>\n",
       "      <td>iHackers Inc</td>\n",
       "      <td>0-1 Yrs</td>\n",
       "    </tr>\n",
       "    <tr>\n",
       "      <th>9</th>\n",
       "      <td>Data Scientist</td>\n",
       "      <td>New Delhi</td>\n",
       "      <td>Optum Global Solutions (India) Private Limited</td>\n",
       "      <td>2-6 Yrs</td>\n",
       "    </tr>\n",
       "  </tbody>\n",
       "</table>\n",
       "</div>"
      ],
      "text/plain": [
       "                                           job_Title  \\\n",
       "0                                     Data Scientist   \n",
       "1                                     Data Scientist   \n",
       "2                               Data Scientist III-2   \n",
       "3  Job Opportunity || Data Scientist || HCL Techn...   \n",
       "4                                     Data Scientist   \n",
       "5                                     Data Scientist   \n",
       "6           Urgent Hiring || Data Scientist || Delhi   \n",
       "7                                     Data Scientist   \n",
       "8                          Data Scientist Internship   \n",
       "9                                     Data Scientist   \n",
       "\n",
       "                                            location  \\\n",
       "0  Kochi/Cochin, Kolkata, Hyderabad/Secunderabad,...   \n",
       "1             Pune, Bangalore/Bengaluru, Delhi / NCR   \n",
       "2                                 (WFH during Covid)   \n",
       "3                                   Gurgaon/Gurugram   \n",
       "4                                        Delhi / NCR   \n",
       "5                            Noida(Sector-126 Noida)   \n",
       "6                            Noida(Sector-126 Noida)   \n",
       "7                                        Delhi / NCR   \n",
       "8                                              Noida   \n",
       "9                                          New Delhi   \n",
       "\n",
       "                                          Company experience  \n",
       "0                                         Think i    0-2 Yrs  \n",
       "1              ThinkBumblebee Analytics Pvt. Ltd.    2-6 Yrs  \n",
       "2                       Concentrix Daksh Services    3-8 Yrs  \n",
       "3                                HCL Technologies    4-7 Yrs  \n",
       "4                  MoMagic Technologies Pvt. Ltd.    4-6 Yrs  \n",
       "5                  MoMagic Technologies Pvt. Ltd.    4-6 Yrs  \n",
       "6                  Shriram Automall India Limited    2-7 Yrs  \n",
       "7            SVK Global Solutions Private Limited   6-10 Yrs  \n",
       "8                                    iHackers Inc    0-1 Yrs  \n",
       "9  Optum Global Solutions (India) Private Limited    2-6 Yrs  "
      ]
     },
     "execution_count": 243,
     "metadata": {},
     "output_type": "execute_result"
    }
   ],
   "source": [
    "jobs"
   ]
  },
  {
   "cell_type": "markdown",
   "id": "901add18",
   "metadata": {},
   "source": [
    "## Q4"
   ]
  },
  {
   "cell_type": "code",
   "execution_count": 244,
   "id": "fcfe372e",
   "metadata": {},
   "outputs": [],
   "source": [
    "driver.get('https://www.flipkart.com/')"
   ]
  },
  {
   "cell_type": "code",
   "execution_count": 245,
   "id": "e0a54aef",
   "metadata": {},
   "outputs": [
    {
     "name": "stderr",
     "output_type": "stream",
     "text": [
      "<ipython-input-245-e7f0959cf479>:1: DeprecationWarning: find_element_by_* commands are deprecated. Please use find_element() instead\n",
      "  search=driver.find_element_by_xpath('//input[@name=\"q\"]')\n"
     ]
    }
   ],
   "source": [
    "search=driver.find_element_by_xpath('//input[@name=\"q\"]')\n",
    "search.send_keys(\"sunglasses\")"
   ]
  },
  {
   "cell_type": "code",
   "execution_count": 246,
   "id": "f1ad0e8e",
   "metadata": {},
   "outputs": [
    {
     "name": "stderr",
     "output_type": "stream",
     "text": [
      "<ipython-input-246-0379011552f6>:1: DeprecationWarning: find_element_by_* commands are deprecated. Please use find_element() instead\n",
      "  search_btn=driver.find_element_by_xpath(\"//button[@class='L0Z3Pu']\")\n"
     ]
    }
   ],
   "source": [
    "search_btn=driver.find_element_by_xpath(\"//button[@class='L0Z3Pu']\")\n",
    "search_btn.click()"
   ]
  },
  {
   "cell_type": "code",
   "execution_count": 247,
   "id": "a7eb6cd1",
   "metadata": {},
   "outputs": [],
   "source": [
    "bran=[]\n",
    "prod_desc=[]\n",
    "price=[]"
   ]
  },
  {
   "cell_type": "code",
   "execution_count": 248,
   "id": "793332ac",
   "metadata": {},
   "outputs": [],
   "source": [
    "url=\"https://www.flipkart.com/search?q=sunglasses&otracker=search&otracker1=search&marketplace=FLIPKART&as-show=on&as=off\"\n",
    "driver.get(url)"
   ]
  },
  {
   "cell_type": "code",
   "execution_count": 249,
   "id": "a2dc786d",
   "metadata": {},
   "outputs": [
    {
     "name": "stderr",
     "output_type": "stream",
     "text": [
      "<ipython-input-249-a64848e4db77>:1: DeprecationWarning: find_elements_by_* commands are deprecated. Please use find_elements() instead\n",
      "  bran_tags=driver.find_elements_by_xpath(\"//div[@class='_2WkVRV']\")\n",
      "<ipython-input-249-a64848e4db77>:5: DeprecationWarning: find_elements_by_* commands are deprecated. Please use find_elements() instead\n",
      "  prod_desc_tags=driver.find_elements_by_xpath(\"//a[@class='IRpwTa']\")\n",
      "<ipython-input-249-a64848e4db77>:9: DeprecationWarning: find_elements_by_* commands are deprecated. Please use find_elements() instead\n",
      "  price_tags=driver.find_elements_by_xpath(\"//div[@class='_30jeq3']\")\n",
      "<ipython-input-249-a64848e4db77>:14: DeprecationWarning: find_element_by_* commands are deprecated. Please use find_element() instead\n",
      "  search_btn=driver.find_element_by_xpath(\"//a[@class='_1LKTO3']\")\n",
      "<ipython-input-249-a64848e4db77>:18: DeprecationWarning: find_elements_by_* commands are deprecated. Please use find_elements() instead\n",
      "  bran_tags=driver.find_elements_by_xpath(\"//div[@class='_2WkVRV']\")\n",
      "<ipython-input-249-a64848e4db77>:22: DeprecationWarning: find_elements_by_* commands are deprecated. Please use find_elements() instead\n",
      "  prod_desc_tags=driver.find_elements_by_xpath(\"//a[@class='IRpwTa']\")\n",
      "<ipython-input-249-a64848e4db77>:26: DeprecationWarning: find_elements_by_* commands are deprecated. Please use find_elements() instead\n",
      "  price_tags=driver.find_elements_by_xpath(\"//div[@class='_30jeq3']\")\n",
      "<ipython-input-249-a64848e4db77>:31: DeprecationWarning: find_element_by_* commands are deprecated. Please use find_element() instead\n",
      "  search_btn=driver.find_element_by_xpath(\"//a[@class='_1LKTO3']\")\n",
      "<ipython-input-249-a64848e4db77>:35: DeprecationWarning: find_elements_by_* commands are deprecated. Please use find_elements() instead\n",
      "  bran_tags=driver.find_elements_by_xpath(\"//div[@class='_2WkVRV']\")\n",
      "<ipython-input-249-a64848e4db77>:39: DeprecationWarning: find_elements_by_* commands are deprecated. Please use find_elements() instead\n",
      "  prod_desc_tags=driver.find_elements_by_xpath(\"//a[@class='IRpwTa']\")\n",
      "<ipython-input-249-a64848e4db77>:43: DeprecationWarning: find_elements_by_* commands are deprecated. Please use find_elements() instead\n",
      "  price_tags=driver.find_elements_by_xpath(\"//div[@class='_30jeq3']\")\n"
     ]
    }
   ],
   "source": [
    "bran_tags=driver.find_elements_by_xpath(\"//div[@class='_2WkVRV']\")\n",
    "for i in bran_tags:\n",
    "    i=i.text\n",
    "    bran.append(i)\n",
    "prod_desc_tags=driver.find_elements_by_xpath(\"//a[@class='IRpwTa']\")\n",
    "for i in prod_desc_tags:\n",
    "    i=i.text\n",
    "    prod_desc.append(i)\n",
    "price_tags=driver.find_elements_by_xpath(\"//div[@class='_30jeq3']\")\n",
    "for i in price_tags:\n",
    "    i=i.text\n",
    "    price.append(i)\n",
    "\n",
    "search_btn=driver.find_element_by_xpath(\"//a[@class='_1LKTO3']\")\n",
    "search_btn.click()\n",
    "url=\"https://www.flipkart.com/search?q=sunglasses&otracker=search&otracker1=search&marketplace=FLIPKART&as-show=on&as=off&page=2\"\n",
    "driver.get(url)\n",
    "bran_tags=driver.find_elements_by_xpath(\"//div[@class='_2WkVRV']\")\n",
    "for i in bran_tags:\n",
    "    i=i.text\n",
    "    bran.append(i)\n",
    "prod_desc_tags=driver.find_elements_by_xpath(\"//a[@class='IRpwTa']\")\n",
    "for i in prod_desc_tags:\n",
    "    i=i.text\n",
    "    prod_desc.append(i)\n",
    "price_tags=driver.find_elements_by_xpath(\"//div[@class='_30jeq3']\")\n",
    "for i in price_tags:\n",
    "    i=i.text\n",
    "    price.append(i)\n",
    "    \n",
    "search_btn=driver.find_element_by_xpath(\"//a[@class='_1LKTO3']\")\n",
    "search_btn.click()\n",
    "url=\"https://www.flipkart.com/search?q=sunglasses&otracker=search&otracker1=search&marketplace=FLIPKART&as-show=on&as=off&page=3\"\n",
    "driver.get(url)\n",
    "bran_tags=driver.find_elements_by_xpath(\"//div[@class='_2WkVRV']\")\n",
    "for i in bran_tags:\n",
    "    i=i.text\n",
    "    bran.append(i)\n",
    "prod_desc_tags=driver.find_elements_by_xpath(\"//a[@class='IRpwTa']\")\n",
    "for i in prod_desc_tags:\n",
    "    i=i.text\n",
    "    prod_desc.append(i)\n",
    "price_tags=driver.find_elements_by_xpath(\"//div[@class='_30jeq3']\")\n",
    "for i in price_tags:\n",
    "    i=i.text\n",
    "    price.append(i)"
   ]
  },
  {
   "cell_type": "code",
   "execution_count": 250,
   "id": "e1248188",
   "metadata": {},
   "outputs": [],
   "source": [
    "bran=bran[:100]\n",
    "prod_desc=prod_desc[:100]\n",
    "price=price[:100]"
   ]
  },
  {
   "cell_type": "code",
   "execution_count": 251,
   "id": "78930e27",
   "metadata": {},
   "outputs": [],
   "source": [
    "prod=pd.DataFrame({})\n",
    "prod['Brand']=bran\n",
    "prod['Product Desc']=prod_desc\n",
    "prod['Price']=price"
   ]
  },
  {
   "cell_type": "code",
   "execution_count": 252,
   "id": "d0e3a6dc",
   "metadata": {},
   "outputs": [
    {
     "data": {
      "text/html": [
       "<div>\n",
       "<style scoped>\n",
       "    .dataframe tbody tr th:only-of-type {\n",
       "        vertical-align: middle;\n",
       "    }\n",
       "\n",
       "    .dataframe tbody tr th {\n",
       "        vertical-align: top;\n",
       "    }\n",
       "\n",
       "    .dataframe thead th {\n",
       "        text-align: right;\n",
       "    }\n",
       "</style>\n",
       "<table border=\"1\" class=\"dataframe\">\n",
       "  <thead>\n",
       "    <tr style=\"text-align: right;\">\n",
       "      <th></th>\n",
       "      <th>Brand</th>\n",
       "      <th>Product Desc</th>\n",
       "      <th>Price</th>\n",
       "    </tr>\n",
       "  </thead>\n",
       "  <tbody>\n",
       "    <tr>\n",
       "      <th>0</th>\n",
       "      <td>ROZZETTA CRAFT</td>\n",
       "      <td>UV Protection, Riding Glasses Rectangular Sung...</td>\n",
       "      <td>₹426</td>\n",
       "    </tr>\n",
       "    <tr>\n",
       "      <th>1</th>\n",
       "      <td>ROYAL SON</td>\n",
       "      <td>UV Protection, Gradient Butterfly Sunglasses (60)</td>\n",
       "      <td>₹664</td>\n",
       "    </tr>\n",
       "    <tr>\n",
       "      <th>2</th>\n",
       "      <td>SRPM</td>\n",
       "      <td>UV Protection Wayfarer Sunglasses (56)</td>\n",
       "      <td>₹188</td>\n",
       "    </tr>\n",
       "    <tr>\n",
       "      <th>3</th>\n",
       "      <td>Fastrack</td>\n",
       "      <td>UV Protection Rectangular Sunglasses (Free Size)</td>\n",
       "      <td>₹513</td>\n",
       "    </tr>\n",
       "    <tr>\n",
       "      <th>4</th>\n",
       "      <td>Elligator</td>\n",
       "      <td>UV Protection Round Sunglasses (54)</td>\n",
       "      <td>₹248</td>\n",
       "    </tr>\n",
       "  </tbody>\n",
       "</table>\n",
       "</div>"
      ],
      "text/plain": [
       "            Brand                                       Product Desc Price\n",
       "0  ROZZETTA CRAFT  UV Protection, Riding Glasses Rectangular Sung...  ₹426\n",
       "1       ROYAL SON  UV Protection, Gradient Butterfly Sunglasses (60)  ₹664\n",
       "2            SRPM             UV Protection Wayfarer Sunglasses (56)  ₹188\n",
       "3        Fastrack   UV Protection Rectangular Sunglasses (Free Size)  ₹513\n",
       "4       Elligator                UV Protection Round Sunglasses (54)  ₹248"
      ]
     },
     "execution_count": 252,
     "metadata": {},
     "output_type": "execute_result"
    }
   ],
   "source": [
    "prod.head()"
   ]
  },
  {
   "cell_type": "markdown",
   "id": "ee0eb9c5",
   "metadata": {},
   "source": [
    "## Q5"
   ]
  },
  {
   "cell_type": "code",
   "execution_count": 253,
   "id": "0bea6fa3",
   "metadata": {},
   "outputs": [],
   "source": [
    "driver.get('https://www.flipkart.com/apple-iphone-11-black-64-gb-includes-earpods-power-adapter/p/itm0f37c2240b217?pid=MOBFKCTSVZAXUHGR&lid=LSTMOBFKC')"
   ]
  },
  {
   "cell_type": "code",
   "execution_count": 254,
   "id": "90b0423c",
   "metadata": {},
   "outputs": [
    {
     "name": "stderr",
     "output_type": "stream",
     "text": [
      "<ipython-input-254-915b12a87b09>:1: DeprecationWarning: find_element_by_* commands are deprecated. Please use find_element() instead\n",
      "  search_btn=driver.find_element_by_xpath(\"//div[@class='_3UAT2v _16PBlm']\")\n"
     ]
    }
   ],
   "source": [
    "search_btn=driver.find_element_by_xpath(\"//div[@class='_3UAT2v _16PBlm']\")\n",
    "search_btn.click()"
   ]
  },
  {
   "cell_type": "code",
   "execution_count": 255,
   "id": "a79aeb75",
   "metadata": {},
   "outputs": [],
   "source": [
    "url=\"https://www.flipkart.com/apple-iphone-11-black-64-gb-includes-earpods-power-adapter/product-reviews/itm0f37c2240b217?pid=MOBFKCTSVZAXUHGR&lid=LSTMOBFKCTSVZAXUHGREPBFGI&marketplace=FLIPKART\"\n",
    "driver.get(url)"
   ]
  },
  {
   "cell_type": "code",
   "execution_count": 256,
   "id": "7d3b8ac9",
   "metadata": {},
   "outputs": [],
   "source": [
    "rating=[]\n",
    "rewsum=[]\n",
    "fullrew=[]"
   ]
  },
  {
   "cell_type": "code",
   "execution_count": 257,
   "id": "16b7e002",
   "metadata": {},
   "outputs": [
    {
     "name": "stderr",
     "output_type": "stream",
     "text": [
      "<ipython-input-257-8b44f20a2c1a>:1: DeprecationWarning: find_elements_by_* commands are deprecated. Please use find_elements() instead\n",
      "  rating_tags=driver.find_elements_by_xpath(\"//div[@class='_3LWZlK _1BLPMq']\")\n",
      "<ipython-input-257-8b44f20a2c1a>:5: DeprecationWarning: find_elements_by_* commands are deprecated. Please use find_elements() instead\n",
      "  rewsum_tags=driver.find_elements_by_xpath(\"//p[@class='_2-N8zT']\")\n",
      "<ipython-input-257-8b44f20a2c1a>:9: DeprecationWarning: find_elements_by_* commands are deprecated. Please use find_elements() instead\n",
      "  fullrew_tags=driver.find_elements_by_xpath(\"//div[@class='t-ZTKy']\")\n"
     ]
    }
   ],
   "source": [
    "rating_tags=driver.find_elements_by_xpath(\"//div[@class='_3LWZlK _1BLPMq']\")\n",
    "for i in rating_tags:\n",
    "    i=i.text\n",
    "    rating.append(i)\n",
    "rewsum_tags=driver.find_elements_by_xpath(\"//p[@class='_2-N8zT']\")\n",
    "for i in rewsum_tags:\n",
    "    i=i.text\n",
    "    rewsum.append(i)\n",
    "fullrew_tags=driver.find_elements_by_xpath(\"//div[@class='t-ZTKy']\")\n",
    "for i in fullrew_tags:\n",
    "    i=i.text\n",
    "    fullrew.append(i)"
   ]
  },
  {
   "cell_type": "code",
   "execution_count": 258,
   "id": "7a9a6598",
   "metadata": {},
   "outputs": [
    {
     "name": "stderr",
     "output_type": "stream",
     "text": [
      "<ipython-input-258-4248d8b06c3a>:2: DeprecationWarning: find_element_by_* commands are deprecated. Please use find_element() instead\n",
      "  search_btn=driver.find_element_by_xpath(\"//a[@class='_1LKTO3']\")\n",
      "<ipython-input-258-4248d8b06c3a>:4: DeprecationWarning: find_element_by_* commands are deprecated. Please use find_element() instead\n",
      "  link_tag=driver.find_element_by_xpath(\"//a[@class='_1LKTO3']\")\n",
      "<ipython-input-258-4248d8b06c3a>:7: DeprecationWarning: find_elements_by_* commands are deprecated. Please use find_elements() instead\n",
      "  rating_tags=driver.find_elements_by_xpath(\"//div[@class='_3LWZlK _1BLPMq']\")\n",
      "<ipython-input-258-4248d8b06c3a>:11: DeprecationWarning: find_elements_by_* commands are deprecated. Please use find_elements() instead\n",
      "  rewsum_tags=driver.find_elements_by_xpath(\"//p[@class='_2-N8zT']\")\n",
      "<ipython-input-258-4248d8b06c3a>:15: DeprecationWarning: find_elements_by_* commands are deprecated. Please use find_elements() instead\n",
      "  fullrew_tags=driver.find_elements_by_xpath(\"//div[@class='t-ZTKy']\")\n"
     ]
    }
   ],
   "source": [
    "for i in range(9):\n",
    "    search_btn=driver.find_element_by_xpath(\"//a[@class='_1LKTO3']\")\n",
    "    search_btn.click()\n",
    "    link_tag=driver.find_element_by_xpath(\"//a[@class='_1LKTO3']\")\n",
    "    link=link_tag.get_attribute('href')\n",
    "    driver.get(link)\n",
    "    rating_tags=driver.find_elements_by_xpath(\"//div[@class='_3LWZlK _1BLPMq']\")\n",
    "    for i in rating_tags:\n",
    "        i=i.text\n",
    "        rating.append(i)\n",
    "    rewsum_tags=driver.find_elements_by_xpath(\"//p[@class='_2-N8zT']\")\n",
    "    for i in rewsum_tags:\n",
    "        i=i.text\n",
    "        rewsum.append(i)\n",
    "    fullrew_tags=driver.find_elements_by_xpath(\"//div[@class='t-ZTKy']\")\n",
    "    for i in fullrew_tags:\n",
    "        i=i.text\n",
    "        fullrew.append(i)"
   ]
  },
  {
   "cell_type": "code",
   "execution_count": 259,
   "id": "91e6b2c2",
   "metadata": {},
   "outputs": [],
   "source": [
    "reviews=pd.DataFrame({})\n",
    "reviews['Ratings']=rating\n",
    "reviews['Review Summary']=rewsum\n",
    "reviews['Full Review']=fullrew"
   ]
  },
  {
   "cell_type": "code",
   "execution_count": 260,
   "id": "ad891cd8",
   "metadata": {},
   "outputs": [
    {
     "data": {
      "text/html": [
       "<div>\n",
       "<style scoped>\n",
       "    .dataframe tbody tr th:only-of-type {\n",
       "        vertical-align: middle;\n",
       "    }\n",
       "\n",
       "    .dataframe tbody tr th {\n",
       "        vertical-align: top;\n",
       "    }\n",
       "\n",
       "    .dataframe thead th {\n",
       "        text-align: right;\n",
       "    }\n",
       "</style>\n",
       "<table border=\"1\" class=\"dataframe\">\n",
       "  <thead>\n",
       "    <tr style=\"text-align: right;\">\n",
       "      <th></th>\n",
       "      <th>Ratings</th>\n",
       "      <th>Review Summary</th>\n",
       "      <th>Full Review</th>\n",
       "    </tr>\n",
       "  </thead>\n",
       "  <tbody>\n",
       "    <tr>\n",
       "      <th>0</th>\n",
       "      <td>5</td>\n",
       "      <td>Brilliant</td>\n",
       "      <td>The Best Phone for the Money\\n\\nThe iPhone 11 ...</td>\n",
       "    </tr>\n",
       "    <tr>\n",
       "      <th>1</th>\n",
       "      <td>5</td>\n",
       "      <td>Simply awesome</td>\n",
       "      <td>Really satisfied with the Product I received.....</td>\n",
       "    </tr>\n",
       "    <tr>\n",
       "      <th>2</th>\n",
       "      <td>5</td>\n",
       "      <td>Perfect product!</td>\n",
       "      <td>Amazing phone with great cameras and better ba...</td>\n",
       "    </tr>\n",
       "    <tr>\n",
       "      <th>3</th>\n",
       "      <td>5</td>\n",
       "      <td>Worth every penny</td>\n",
       "      <td>Previously I was using one plus 3t it was a gr...</td>\n",
       "    </tr>\n",
       "    <tr>\n",
       "      <th>4</th>\n",
       "      <td>5</td>\n",
       "      <td>Fabulous!</td>\n",
       "      <td>This is my first iOS phone. I am very happy wi...</td>\n",
       "    </tr>\n",
       "  </tbody>\n",
       "</table>\n",
       "</div>"
      ],
      "text/plain": [
       "  Ratings     Review Summary  \\\n",
       "0       5          Brilliant   \n",
       "1       5     Simply awesome   \n",
       "2       5   Perfect product!   \n",
       "3       5  Worth every penny   \n",
       "4       5          Fabulous!   \n",
       "\n",
       "                                         Full Review  \n",
       "0  The Best Phone for the Money\\n\\nThe iPhone 11 ...  \n",
       "1  Really satisfied with the Product I received.....  \n",
       "2  Amazing phone with great cameras and better ba...  \n",
       "3  Previously I was using one plus 3t it was a gr...  \n",
       "4  This is my first iOS phone. I am very happy wi...  "
      ]
     },
     "execution_count": 260,
     "metadata": {},
     "output_type": "execute_result"
    }
   ],
   "source": [
    "reviews.head()"
   ]
  },
  {
   "cell_type": "markdown",
   "id": "8d676f66",
   "metadata": {},
   "source": [
    "## Q6"
   ]
  },
  {
   "cell_type": "code",
   "execution_count": 261,
   "id": "1cb8276a",
   "metadata": {},
   "outputs": [],
   "source": [
    "driver.get('https://www.flipkart.com/')"
   ]
  },
  {
   "cell_type": "code",
   "execution_count": 262,
   "id": "532300aa",
   "metadata": {},
   "outputs": [
    {
     "name": "stderr",
     "output_type": "stream",
     "text": [
      "<ipython-input-262-c3595ba0d089>:1: DeprecationWarning: find_element_by_* commands are deprecated. Please use find_element() instead\n",
      "  search=driver.find_element_by_xpath('//input[@name=\"q\"]')\n",
      "<ipython-input-262-c3595ba0d089>:3: DeprecationWarning: find_element_by_* commands are deprecated. Please use find_element() instead\n",
      "  search_btn=driver.find_element_by_xpath(\"//button[@class='L0Z3Pu']\")\n"
     ]
    }
   ],
   "source": [
    "search=driver.find_element_by_xpath('//input[@name=\"q\"]')\n",
    "search.send_keys(\"sneakers\")\n",
    "search_btn=driver.find_element_by_xpath(\"//button[@class='L0Z3Pu']\")\n",
    "search_btn.click()"
   ]
  },
  {
   "cell_type": "code",
   "execution_count": 263,
   "id": "c02efaba",
   "metadata": {},
   "outputs": [],
   "source": [
    "bran=[]\n",
    "prod_desc=[]\n",
    "price=[]"
   ]
  },
  {
   "cell_type": "code",
   "execution_count": 264,
   "id": "30b9a318",
   "metadata": {},
   "outputs": [],
   "source": [
    "url=\"https://www.flipkart.com/search?q=sneakers&otracker=search&otracker1=search&marketplace=FLIPKART&as-show=off&as=off\"\n",
    "driver.get(url)"
   ]
  },
  {
   "cell_type": "code",
   "execution_count": 265,
   "id": "937a77b2",
   "metadata": {},
   "outputs": [
    {
     "name": "stderr",
     "output_type": "stream",
     "text": [
      "<ipython-input-265-46f4d5c9f8a0>:1: DeprecationWarning: find_elements_by_* commands are deprecated. Please use find_elements() instead\n",
      "  bran_tags=driver.find_elements_by_xpath(\"//div[@class='_2WkVRV']\")\n",
      "<ipython-input-265-46f4d5c9f8a0>:5: DeprecationWarning: find_elements_by_* commands are deprecated. Please use find_elements() instead\n",
      "  prod_desc_tags=driver.find_elements_by_xpath(\"//a[@class='IRpwTa']\")\n",
      "<ipython-input-265-46f4d5c9f8a0>:9: DeprecationWarning: find_elements_by_* commands are deprecated. Please use find_elements() instead\n",
      "  price_tags=driver.find_elements_by_xpath(\"//div[@class='_30jeq3']\")\n",
      "<ipython-input-265-46f4d5c9f8a0>:14: DeprecationWarning: find_element_by_* commands are deprecated. Please use find_element() instead\n",
      "  search_btn=driver.find_element_by_xpath(\"//a[@class='_1LKTO3']\")\n",
      "<ipython-input-265-46f4d5c9f8a0>:16: DeprecationWarning: find_element_by_* commands are deprecated. Please use find_element() instead\n",
      "  link_tag=driver.find_element_by_xpath(\"//a[@class='_1LKTO3']\")\n",
      "<ipython-input-265-46f4d5c9f8a0>:19: DeprecationWarning: find_elements_by_* commands are deprecated. Please use find_elements() instead\n",
      "  bran_tags=driver.find_elements_by_xpath(\"//div[@class='_2WkVRV']\")\n",
      "<ipython-input-265-46f4d5c9f8a0>:23: DeprecationWarning: find_elements_by_* commands are deprecated. Please use find_elements() instead\n",
      "  prod_desc_tags=driver.find_elements_by_xpath(\"//a[@class='IRpwTa']\")\n",
      "<ipython-input-265-46f4d5c9f8a0>:27: DeprecationWarning: find_elements_by_* commands are deprecated. Please use find_elements() instead\n",
      "  price_tags=driver.find_elements_by_xpath(\"//div[@class='_30jeq3']\")\n"
     ]
    }
   ],
   "source": [
    "bran_tags=driver.find_elements_by_xpath(\"//div[@class='_2WkVRV']\")\n",
    "for i in bran_tags:\n",
    "    i=i.text\n",
    "    bran.append(i)\n",
    "prod_desc_tags=driver.find_elements_by_xpath(\"//a[@class='IRpwTa']\")\n",
    "for i in prod_desc_tags:\n",
    "    i=i.text\n",
    "    prod_desc.append(i)\n",
    "price_tags=driver.find_elements_by_xpath(\"//div[@class='_30jeq3']\")\n",
    "for i in price_tags:\n",
    "    i=i.text\n",
    "    price.append(i)\n",
    "for i in range(3):\n",
    "    search_btn=driver.find_element_by_xpath(\"//a[@class='_1LKTO3']\")\n",
    "    search_btn.click()\n",
    "    link_tag=driver.find_element_by_xpath(\"//a[@class='_1LKTO3']\")\n",
    "    link=link_tag.get_attribute('href')\n",
    "    driver.get(link)\n",
    "    bran_tags=driver.find_elements_by_xpath(\"//div[@class='_2WkVRV']\")\n",
    "    for i in bran_tags:\n",
    "        i=i.text\n",
    "        bran.append(i)\n",
    "    prod_desc_tags=driver.find_elements_by_xpath(\"//a[@class='IRpwTa']\")\n",
    "    for i in prod_desc_tags:\n",
    "        i=i.text\n",
    "        prod_desc.append(i)\n",
    "    price_tags=driver.find_elements_by_xpath(\"//div[@class='_30jeq3']\")\n",
    "    for i in price_tags:\n",
    "        i=i.text\n",
    "        price.append(i)"
   ]
  },
  {
   "cell_type": "code",
   "execution_count": 266,
   "id": "85cc5833",
   "metadata": {},
   "outputs": [],
   "source": [
    "bran=bran[:100]\n",
    "prod_desc=prod_desc[:100]\n",
    "price=price[:100]"
   ]
  },
  {
   "cell_type": "code",
   "execution_count": 267,
   "id": "b95d4c69",
   "metadata": {},
   "outputs": [],
   "source": [
    "prod=pd.DataFrame({})\n",
    "prod['Brand']=bran\n",
    "prod['Product Desc']=prod_desc\n",
    "prod['Price']=price"
   ]
  },
  {
   "cell_type": "code",
   "execution_count": 268,
   "id": "ab8c7ecc",
   "metadata": {},
   "outputs": [
    {
     "data": {
      "text/html": [
       "<div>\n",
       "<style scoped>\n",
       "    .dataframe tbody tr th:only-of-type {\n",
       "        vertical-align: middle;\n",
       "    }\n",
       "\n",
       "    .dataframe tbody tr th {\n",
       "        vertical-align: top;\n",
       "    }\n",
       "\n",
       "    .dataframe thead th {\n",
       "        text-align: right;\n",
       "    }\n",
       "</style>\n",
       "<table border=\"1\" class=\"dataframe\">\n",
       "  <thead>\n",
       "    <tr style=\"text-align: right;\">\n",
       "      <th></th>\n",
       "      <th>Brand</th>\n",
       "      <th>Product Desc</th>\n",
       "      <th>Price</th>\n",
       "    </tr>\n",
       "  </thead>\n",
       "  <tbody>\n",
       "    <tr>\n",
       "      <th>0</th>\n",
       "      <td>PUMA</td>\n",
       "      <td>X-Ray 2 Square Sneakers For Men</td>\n",
       "      <td>₹6,999</td>\n",
       "    </tr>\n",
       "    <tr>\n",
       "      <th>1</th>\n",
       "      <td>PUMA</td>\n",
       "      <td>Puma Smash v2 SL one8 Sneakers For Men</td>\n",
       "      <td>₹3,119</td>\n",
       "    </tr>\n",
       "    <tr>\n",
       "      <th>2</th>\n",
       "      <td>FOOTGRAB</td>\n",
       "      <td>White Boots || High Tops || Sneakers For Men</td>\n",
       "      <td>₹549</td>\n",
       "    </tr>\n",
       "    <tr>\n",
       "      <th>3</th>\n",
       "      <td>Numenzo</td>\n",
       "      <td>Sneakers For Men</td>\n",
       "      <td>₹479</td>\n",
       "    </tr>\n",
       "    <tr>\n",
       "      <th>4</th>\n",
       "      <td>Magnolia</td>\n",
       "      <td>Sneakers For Men</td>\n",
       "      <td>₹398</td>\n",
       "    </tr>\n",
       "  </tbody>\n",
       "</table>\n",
       "</div>"
      ],
      "text/plain": [
       "      Brand                                  Product Desc   Price\n",
       "0      PUMA               X-Ray 2 Square Sneakers For Men  ₹6,999\n",
       "1      PUMA        Puma Smash v2 SL one8 Sneakers For Men  ₹3,119\n",
       "2  FOOTGRAB  White Boots || High Tops || Sneakers For Men    ₹549\n",
       "3   Numenzo                              Sneakers For Men    ₹479\n",
       "4  Magnolia                              Sneakers For Men    ₹398"
      ]
     },
     "execution_count": 268,
     "metadata": {},
     "output_type": "execute_result"
    }
   ],
   "source": [
    "prod.head()"
   ]
  },
  {
   "cell_type": "markdown",
   "id": "659f3e6e",
   "metadata": {},
   "source": [
    "## Q7"
   ]
  },
  {
   "cell_type": "code",
   "execution_count": 269,
   "id": "50295872",
   "metadata": {},
   "outputs": [],
   "source": [
    "driver.get('https://www.myntra.com/shoes')"
   ]
  },
  {
   "cell_type": "markdown",
   "id": "3b26a3c5",
   "metadata": {},
   "source": [
    "### Cost between 7149 and 14099"
   ]
  },
  {
   "cell_type": "code",
   "execution_count": 270,
   "id": "412b0d2a",
   "metadata": {},
   "outputs": [
    {
     "name": "stderr",
     "output_type": "stream",
     "text": [
      "<ipython-input-270-b8e768f28798>:1: DeprecationWarning: find_element_by_* commands are deprecated. Please use find_element() instead\n",
      "  cost_filter = driver.find_element_by_xpath(\"/html/body/div[2]/div/div[1]/main/div[3]/div[1]/section/div/div[5]/ul/li[2]/label/div\")\n"
     ]
    }
   ],
   "source": [
    "cost_filter = driver.find_element_by_xpath(\"/html/body/div[2]/div/div[1]/main/div[3]/div[1]/section/div/div[5]/ul/li[2]/label/div\")\n",
    "cost_filter.click()"
   ]
  },
  {
   "cell_type": "code",
   "execution_count": 271,
   "id": "68fa8cba",
   "metadata": {},
   "outputs": [
    {
     "name": "stderr",
     "output_type": "stream",
     "text": [
      "<ipython-input-271-fba9e51edaaf>:3: DeprecationWarning: find_element_by_* commands are deprecated. Please use find_element() instead\n",
      "  color_filter = driver.find_element_by_xpath(\"/html/body/div[2]/div/div[1]/main/div[3]/div[1]/section/div/div[6]/ul/li[1]/label/div\")\n"
     ]
    }
   ],
   "source": [
    "url=\"https://www.myntra.com/shoes?rf=Price%3A7149.0_14099.0_7149.0%20TO%2014099.0\"\n",
    "driver.get(url)\n",
    "color_filter = driver.find_element_by_xpath(\"/html/body/div[2]/div/div[1]/main/div[3]/div[1]/section/div/div[6]/ul/li[1]/label/div\")\n",
    "color_filter.click()"
   ]
  },
  {
   "cell_type": "code",
   "execution_count": 272,
   "id": "70cc788f",
   "metadata": {},
   "outputs": [],
   "source": [
    "url=\"https://www.myntra.com/shoes?f=Color%3ABlack_36454f&rf=Price%3A7149.0_14099.0_7149.0%20TO%2014099.0\"\n",
    "driver.get(url)"
   ]
  },
  {
   "cell_type": "code",
   "execution_count": 273,
   "id": "a4140706",
   "metadata": {},
   "outputs": [
    {
     "name": "stderr",
     "output_type": "stream",
     "text": [
      "<ipython-input-273-c3003a088ca9>:4: DeprecationWarning: find_elements_by_* commands are deprecated. Please use find_elements() instead\n",
      "  bran_tags=driver.find_elements_by_xpath(\"//h3[@class='product-brand']\")\n",
      "<ipython-input-273-c3003a088ca9>:8: DeprecationWarning: find_elements_by_* commands are deprecated. Please use find_elements() instead\n",
      "  prod_desc_tags=driver.find_elements_by_xpath(\"//h4[@class='product-product']\")\n",
      "<ipython-input-273-c3003a088ca9>:12: DeprecationWarning: find_elements_by_* commands are deprecated. Please use find_elements() instead\n",
      "  price_tags=driver.find_elements_by_xpath(\"//div[@class='product-price']\")\n"
     ]
    }
   ],
   "source": [
    "bran=[]\n",
    "prod_desc=[]\n",
    "price=[]\n",
    "bran_tags=driver.find_elements_by_xpath(\"//h3[@class='product-brand']\")\n",
    "for i in bran_tags:\n",
    "    i=i.text\n",
    "    bran.append(i)\n",
    "prod_desc_tags=driver.find_elements_by_xpath(\"//h4[@class='product-product']\")\n",
    "for i in prod_desc_tags:\n",
    "    i=i.text\n",
    "    prod_desc.append(i)\n",
    "price_tags=driver.find_elements_by_xpath(\"//div[@class='product-price']\")\n",
    "for i in price_tags:\n",
    "    i=i.text\n",
    "    price.append(i)"
   ]
  },
  {
   "cell_type": "code",
   "execution_count": 274,
   "id": "1f4e5db3",
   "metadata": {},
   "outputs": [
    {
     "name": "stderr",
     "output_type": "stream",
     "text": [
      "<ipython-input-274-0ede266629c3>:1: DeprecationWarning: find_element_by_* commands are deprecated. Please use find_element() instead\n",
      "  search_btn=driver.find_element_by_xpath(\"//a[@rel='next']\")\n",
      "<ipython-input-274-0ede266629c3>:3: DeprecationWarning: find_element_by_* commands are deprecated. Please use find_element() instead\n",
      "  link_tag=driver.find_element_by_xpath(\"//a[@rel='next']\")\n"
     ]
    }
   ],
   "source": [
    "search_btn=driver.find_element_by_xpath(\"//a[@rel='next']\")\n",
    "search_btn.click()\n",
    "link_tag=driver.find_element_by_xpath(\"//a[@rel='next']\")\n",
    "link=link_tag.get_attribute('href')\n",
    "driver.get(link)"
   ]
  },
  {
   "cell_type": "code",
   "execution_count": 275,
   "id": "3564ea1c",
   "metadata": {},
   "outputs": [
    {
     "name": "stderr",
     "output_type": "stream",
     "text": [
      "<ipython-input-275-60a488f6acd3>:1: DeprecationWarning: find_elements_by_* commands are deprecated. Please use find_elements() instead\n",
      "  bran_tags=driver.find_elements_by_xpath(\"//h3[@class='product-brand']\")\n",
      "<ipython-input-275-60a488f6acd3>:5: DeprecationWarning: find_elements_by_* commands are deprecated. Please use find_elements() instead\n",
      "  prod_desc_tags=driver.find_elements_by_xpath(\"//h4[@class='product-product']\")\n",
      "<ipython-input-275-60a488f6acd3>:9: DeprecationWarning: find_elements_by_* commands are deprecated. Please use find_elements() instead\n",
      "  price_tags=driver.find_elements_by_xpath(\"//div[@class='product-price']\")\n"
     ]
    }
   ],
   "source": [
    "bran_tags=driver.find_elements_by_xpath(\"//h3[@class='product-brand']\")\n",
    "for i in bran_tags:\n",
    "    i=i.text\n",
    "    bran.append(i)\n",
    "prod_desc_tags=driver.find_elements_by_xpath(\"//h4[@class='product-product']\")\n",
    "for i in prod_desc_tags:\n",
    "    i=i.text\n",
    "    prod_desc.append(i)\n",
    "price_tags=driver.find_elements_by_xpath(\"//div[@class='product-price']\")\n",
    "for i in price_tags:\n",
    "    i=i.text\n",
    "    price.append(i)"
   ]
  },
  {
   "cell_type": "code",
   "execution_count": 276,
   "id": "c9226db5",
   "metadata": {},
   "outputs": [],
   "source": [
    "prod=pd.DataFrame({})\n",
    "prod['Brand']=bran\n",
    "prod['Product Desc']=prod_desc\n",
    "prod['Price']=price"
   ]
  },
  {
   "cell_type": "code",
   "execution_count": 277,
   "id": "df969eb4",
   "metadata": {},
   "outputs": [
    {
     "data": {
      "text/html": [
       "<div>\n",
       "<style scoped>\n",
       "    .dataframe tbody tr th:only-of-type {\n",
       "        vertical-align: middle;\n",
       "    }\n",
       "\n",
       "    .dataframe tbody tr th {\n",
       "        vertical-align: top;\n",
       "    }\n",
       "\n",
       "    .dataframe thead th {\n",
       "        text-align: right;\n",
       "    }\n",
       "</style>\n",
       "<table border=\"1\" class=\"dataframe\">\n",
       "  <thead>\n",
       "    <tr style=\"text-align: right;\">\n",
       "      <th></th>\n",
       "      <th>Brand</th>\n",
       "      <th>Product Desc</th>\n",
       "      <th>Price</th>\n",
       "    </tr>\n",
       "  </thead>\n",
       "  <tbody>\n",
       "    <tr>\n",
       "      <th>0</th>\n",
       "      <td>Nike</td>\n",
       "      <td>LEBRON WITNESS Basketball Shoe</td>\n",
       "      <td>Rs. 7465Rs. 8295(10% OFF)</td>\n",
       "    </tr>\n",
       "    <tr>\n",
       "      <th>1</th>\n",
       "      <td>Nike</td>\n",
       "      <td>AIR ZOOM PEGASUS Running Shoes</td>\n",
       "      <td>Rs. 8995Rs. 9995(10% OFF)</td>\n",
       "    </tr>\n",
       "    <tr>\n",
       "      <th>2</th>\n",
       "      <td>Nike</td>\n",
       "      <td>Air Zoom Pegasus 38 Shield Run</td>\n",
       "      <td>Rs. 10345Rs. 11495(10% OFF)</td>\n",
       "    </tr>\n",
       "    <tr>\n",
       "      <th>3</th>\n",
       "      <td>Nike</td>\n",
       "      <td>Men Zoom Span 4 Running Shoes</td>\n",
       "      <td>Rs. 7195</td>\n",
       "    </tr>\n",
       "    <tr>\n",
       "      <th>4</th>\n",
       "      <td>Puma</td>\n",
       "      <td>Men Jamming 2.0 Running Shoes</td>\n",
       "      <td>Rs. 10399Rs. 12999(20% OFF)</td>\n",
       "    </tr>\n",
       "  </tbody>\n",
       "</table>\n",
       "</div>"
      ],
      "text/plain": [
       "  Brand                    Product Desc                        Price\n",
       "0  Nike  LEBRON WITNESS Basketball Shoe    Rs. 7465Rs. 8295(10% OFF)\n",
       "1  Nike  AIR ZOOM PEGASUS Running Shoes    Rs. 8995Rs. 9995(10% OFF)\n",
       "2  Nike  Air Zoom Pegasus 38 Shield Run  Rs. 10345Rs. 11495(10% OFF)\n",
       "3  Nike   Men Zoom Span 4 Running Shoes                     Rs. 7195\n",
       "4  Puma   Men Jamming 2.0 Running Shoes  Rs. 10399Rs. 12999(20% OFF)"
      ]
     },
     "execution_count": 277,
     "metadata": {},
     "output_type": "execute_result"
    }
   ],
   "source": [
    "prod.head()"
   ]
  },
  {
   "cell_type": "markdown",
   "id": "5a3ace71",
   "metadata": {},
   "source": [
    "## Q8"
   ]
  },
  {
   "cell_type": "code",
   "execution_count": 278,
   "id": "87d37bd6",
   "metadata": {},
   "outputs": [],
   "source": [
    "driver.get('https://www.amazon.in/')"
   ]
  },
  {
   "cell_type": "code",
   "execution_count": 279,
   "id": "ae6ddef4",
   "metadata": {},
   "outputs": [
    {
     "name": "stderr",
     "output_type": "stream",
     "text": [
      "<ipython-input-279-d0b07ba3002f>:1: DeprecationWarning: find_element_by_* commands are deprecated. Please use find_element() instead\n",
      "  search=driver.find_element_by_xpath('//input[@id=\"twotabsearchtextbox\"]')\n",
      "<ipython-input-279-d0b07ba3002f>:3: DeprecationWarning: find_element_by_* commands are deprecated. Please use find_element() instead\n",
      "  search_btn=driver.find_element_by_xpath(\"//span[@class='nav-search-submit-text nav-sprite nav-progressive-attribute']\")\n"
     ]
    }
   ],
   "source": [
    "search=driver.find_element_by_xpath('//input[@id=\"twotabsearchtextbox\"]')\n",
    "search.send_keys(\"Laptop\")\n",
    "search_btn=driver.find_element_by_xpath(\"//span[@class='nav-search-submit-text nav-sprite nav-progressive-attribute']\")\n",
    "search_btn.click()"
   ]
  },
  {
   "cell_type": "code",
   "execution_count": 280,
   "id": "e3f14956",
   "metadata": {},
   "outputs": [],
   "source": [
    "url=\"https://www.amazon.in/s?k=Laptop&ref=nb_sb_noss\"\n",
    "driver.get(url)"
   ]
  },
  {
   "cell_type": "markdown",
   "id": "4562a7c3",
   "metadata": {},
   "source": [
    "## i7 filters and i5 filters"
   ]
  },
  {
   "cell_type": "code",
   "execution_count": 182,
   "id": "38371d05",
   "metadata": {},
   "outputs": [
    {
     "name": "stderr",
     "output_type": "stream",
     "text": [
      "<ipython-input-182-c3aeed6cb9d1>:1: DeprecationWarning: find_element_by_* commands are deprecated. Please use find_element() instead\n",
      "  proci7_fil = driver.find_element_by_xpath(\"/html/body/div[1]/div[2]/div[1]/div[2]/div/div[3]/span/div[1]/span/div/div/div[5]/ul[2]/li[11]/span/a/div/label/i\")\n"
     ]
    }
   ],
   "source": [
    "proci7_fil = driver.find_element_by_xpath(\"/html/body/div[1]/div[2]/div[1]/div[2]/div/div[3]/span/div[1]/span/div/div/div[5]/ul[2]/li[11]/span/a/div/label/i\")\n",
    "proci7_fil.click()"
   ]
  },
  {
   "cell_type": "code",
   "execution_count": 183,
   "id": "0d967e64",
   "metadata": {},
   "outputs": [
    {
     "name": "stderr",
     "output_type": "stream",
     "text": [
      "<ipython-input-183-972d0aa2d9a1>:3: DeprecationWarning: find_element_by_* commands are deprecated. Please use find_element() instead\n",
      "  proci5_filter = driver.find_element_by_xpath(\"/html/body/div[1]/div[2]/div[1]/div[2]/div/div[3]/span/div[1]/span/div/div/div[5]/ul[2]/li[2]/span/a/div/label/i\")\n"
     ]
    }
   ],
   "source": [
    "url=\"https://www.amazon.in/s?k=Laptop&rh=n%3A1375424031%2Cp_n_feature_thirteen_browse-bin%3A12598163031&dc&qid=1636614674&rnid=12598141031&ref=sr_nr_p_n_feature_thirteen_browse-bin_11\"\n",
    "driver.get(url)\n",
    "proci5_filter = driver.find_element_by_xpath(\"/html/body/div[1]/div[2]/div[1]/div[2]/div/div[3]/span/div[1]/span/div/div/div[5]/ul[2]/li[2]/span/a/div/label/i\")\n",
    "proci5_filter.click()"
   ]
  },
  {
   "cell_type": "code",
   "execution_count": 184,
   "id": "89f68ca3",
   "metadata": {},
   "outputs": [],
   "source": [
    "url=\"https://www.amazon.in/s?k=Laptop&i=computers&rh=n%3A1375424031%2Cp_n_feature_thirteen_browse-bin%3A12598162031%7C12598163031&dc&qid=1636614930&rnid=12598141031&ref=sr_nr_p_n_feature_thirteen_browse-bin_1\"\n",
    "driver.get(url)"
   ]
  },
  {
   "cell_type": "code",
   "execution_count": 204,
   "id": "40bf1598",
   "metadata": {},
   "outputs": [
    {
     "name": "stderr",
     "output_type": "stream",
     "text": [
      "<ipython-input-204-914d137a477d>:4: DeprecationWarning: find_elements_by_* commands are deprecated. Please use find_elements() instead\n",
      "  title_tags=driver.find_elements_by_xpath(\"//h2[@class='a-size-mini a-spacing-none a-color-base s-line-clamp-2']\")\n",
      "<ipython-input-204-914d137a477d>:8: DeprecationWarning: find_elements_by_* commands are deprecated. Please use find_elements() instead\n",
      "  rating_tags=driver.find_elements_by_xpath(\"//span[@class='a-size-base']\")\n",
      "<ipython-input-204-914d137a477d>:12: DeprecationWarning: find_elements_by_* commands are deprecated. Please use find_elements() instead\n",
      "  price_tags=driver.find_elements_by_xpath(\"//span[@class='a-price-whole']\")\n"
     ]
    }
   ],
   "source": [
    "title=[]\n",
    "rati=[]\n",
    "price=[]\n",
    "title_tags=driver.find_elements_by_xpath(\"//h2[@class='a-size-mini a-spacing-none a-color-base s-line-clamp-2']\")\n",
    "for i in title_tags:\n",
    "    i=i.text\n",
    "    title.append(i)\n",
    "rating_tags=driver.find_elements_by_xpath(\"//span[@class='a-size-base']\")\n",
    "for i in rating_tags:\n",
    "    i=i.text\n",
    "    rating.append(i)\n",
    "price_tags=driver.find_elements_by_xpath(\"//span[@class='a-price-whole']\")\n",
    "for i in price_tags:\n",
    "    i=i.text\n",
    "    price.append(i)"
   ]
  },
  {
   "cell_type": "code",
   "execution_count": 205,
   "id": "196f645f",
   "metadata": {},
   "outputs": [],
   "source": [
    "title=title[:10]\n",
    "rating=rating[:10]\n",
    "price=price[:10]"
   ]
  },
  {
   "cell_type": "code",
   "execution_count": 206,
   "id": "4ce9e15b",
   "metadata": {},
   "outputs": [
    {
     "data": {
      "text/html": [
       "<div>\n",
       "<style scoped>\n",
       "    .dataframe tbody tr th:only-of-type {\n",
       "        vertical-align: middle;\n",
       "    }\n",
       "\n",
       "    .dataframe tbody tr th {\n",
       "        vertical-align: top;\n",
       "    }\n",
       "\n",
       "    .dataframe thead th {\n",
       "        text-align: right;\n",
       "    }\n",
       "</style>\n",
       "<table border=\"1\" class=\"dataframe\">\n",
       "  <thead>\n",
       "    <tr style=\"text-align: right;\">\n",
       "      <th></th>\n",
       "      <th>Titles</th>\n",
       "      <th>Global Ratings</th>\n",
       "      <th>Price</th>\n",
       "    </tr>\n",
       "  </thead>\n",
       "  <tbody>\n",
       "    <tr>\n",
       "      <th>0</th>\n",
       "      <td>LG Gram 17 Ultra-Light Intel Evo 11th Gen Core...</td>\n",
       "      <td>33</td>\n",
       "      <td>1,06,057</td>\n",
       "    </tr>\n",
       "    <tr>\n",
       "      <th>1</th>\n",
       "      <td>LG Gram 14 Ultra-Light Intel Evo 11th Gen Core...</td>\n",
       "      <td>96</td>\n",
       "      <td>74,999</td>\n",
       "    </tr>\n",
       "    <tr>\n",
       "      <th>2</th>\n",
       "      <td>HP 14 11th Gen Intel Core i5 Processor 14 inch...</td>\n",
       "      <td>663</td>\n",
       "      <td>56,490</td>\n",
       "    </tr>\n",
       "    <tr>\n",
       "      <th>3</th>\n",
       "      <td>Lenovo V14 Intel Core i5 11th Gen 14\" (35.56cm...</td>\n",
       "      <td>3</td>\n",
       "      <td>48,990</td>\n",
       "    </tr>\n",
       "    <tr>\n",
       "      <th>4</th>\n",
       "      <td>(Renewed) Dell Latitude Intel 4th Gen Core i5 ...</td>\n",
       "      <td>2</td>\n",
       "      <td>24,990</td>\n",
       "    </tr>\n",
       "    <tr>\n",
       "      <th>5</th>\n",
       "      <td>(Renewed) Dell Latitude (2nd Gen Core i5/4GB R...</td>\n",
       "      <td>1</td>\n",
       "      <td>26,999</td>\n",
       "    </tr>\n",
       "    <tr>\n",
       "      <th>6</th>\n",
       "      <td>HP 15 11th Gen Intel Core i5 Processor 39.62 c...</td>\n",
       "      <td>180</td>\n",
       "      <td>55,990</td>\n",
       "    </tr>\n",
       "    <tr>\n",
       "      <th>7</th>\n",
       "      <td>HP Pavilion (2021) Intel 11th Gen Core i5 14 i...</td>\n",
       "      <td>1,263</td>\n",
       "      <td>66,990</td>\n",
       "    </tr>\n",
       "    <tr>\n",
       "      <th>8</th>\n",
       "      <td>HP Pavilion Gaming 10th Gen Intel Core i5 15.6...</td>\n",
       "      <td>162</td>\n",
       "      <td>69,990</td>\n",
       "    </tr>\n",
       "    <tr>\n",
       "      <th>9</th>\n",
       "      <td>Lenovo IdeaPad Slim 5 11th Gen Intel Core i5 1...</td>\n",
       "      <td>125</td>\n",
       "      <td>66,990</td>\n",
       "    </tr>\n",
       "  </tbody>\n",
       "</table>\n",
       "</div>"
      ],
      "text/plain": [
       "                                              Titles Global Ratings     Price\n",
       "0  LG Gram 17 Ultra-Light Intel Evo 11th Gen Core...             33  1,06,057\n",
       "1  LG Gram 14 Ultra-Light Intel Evo 11th Gen Core...             96    74,999\n",
       "2  HP 14 11th Gen Intel Core i5 Processor 14 inch...            663    56,490\n",
       "3  Lenovo V14 Intel Core i5 11th Gen 14\" (35.56cm...              3    48,990\n",
       "4  (Renewed) Dell Latitude Intel 4th Gen Core i5 ...              2    24,990\n",
       "5  (Renewed) Dell Latitude (2nd Gen Core i5/4GB R...              1    26,999\n",
       "6  HP 15 11th Gen Intel Core i5 Processor 39.62 c...            180    55,990\n",
       "7  HP Pavilion (2021) Intel 11th Gen Core i5 14 i...          1,263    66,990\n",
       "8  HP Pavilion Gaming 10th Gen Intel Core i5 15.6...            162    69,990\n",
       "9  Lenovo IdeaPad Slim 5 11th Gen Intel Core i5 1...            125    66,990"
      ]
     },
     "execution_count": 206,
     "metadata": {},
     "output_type": "execute_result"
    }
   ],
   "source": [
    "prod=pd.DataFrame({})\n",
    "prod['Titles']=title\n",
    "prod['Global Ratings']=rating\n",
    "prod['Price']=price\n",
    "prod"
   ]
  },
  {
   "cell_type": "markdown",
   "id": "1a86d3fd",
   "metadata": {},
   "source": [
    "## Q9"
   ]
  },
  {
   "cell_type": "code",
   "execution_count": 25,
   "id": "d8377a73",
   "metadata": {},
   "outputs": [],
   "source": [
    "driver.get('https://www.ambitionbox.com/')"
   ]
  },
  {
   "cell_type": "code",
   "execution_count": 26,
   "id": "e210baaf",
   "metadata": {},
   "outputs": [
    {
     "name": "stderr",
     "output_type": "stream",
     "text": [
      "<ipython-input-26-1457f48acfe8>:1: DeprecationWarning: find_element_by_* commands are deprecated. Please use find_element() instead\n",
      "  search_btn=driver.find_element_by_xpath(\"//a[@class='link jobs']\")\n"
     ]
    }
   ],
   "source": [
    "search_btn=driver.find_element_by_xpath(\"//a[@class='link jobs']\")\n",
    "search_btn.click()"
   ]
  },
  {
   "cell_type": "code",
   "execution_count": 27,
   "id": "ff0a05cb",
   "metadata": {},
   "outputs": [],
   "source": [
    "url=\"https://www.ambitionbox.com/jobs\"\n",
    "driver.get(url)"
   ]
  },
  {
   "cell_type": "code",
   "execution_count": 28,
   "id": "ef20f3dc",
   "metadata": {},
   "outputs": [
    {
     "name": "stderr",
     "output_type": "stream",
     "text": [
      "<ipython-input-28-4a947d3b9900>:1: DeprecationWarning: find_element_by_* commands are deprecated. Please use find_element() instead\n",
      "  search=driver.find_element_by_xpath('//input[@class=\"input tt-input\"]')\n"
     ]
    }
   ],
   "source": [
    "search=driver.find_element_by_xpath('//input[@class=\"input tt-input\"]')\n",
    "search.send_keys(\"Data Scientist\")"
   ]
  },
  {
   "cell_type": "code",
   "execution_count": 29,
   "id": "c3121517",
   "metadata": {},
   "outputs": [
    {
     "name": "stderr",
     "output_type": "stream",
     "text": [
      "<ipython-input-29-198e795d2968>:1: DeprecationWarning: find_element_by_* commands are deprecated. Please use find_element() instead\n",
      "  search_btn=driver.find_element_by_xpath(\"//button[@class='ab_btn search-btn round']\")\n"
     ]
    }
   ],
   "source": [
    "search_btn=driver.find_element_by_xpath(\"//button[@class='ab_btn search-btn round']\")\n",
    "search_btn.click()"
   ]
  },
  {
   "cell_type": "code",
   "execution_count": 30,
   "id": "13fe9fe5",
   "metadata": {},
   "outputs": [],
   "source": [
    "url=\"https://www.ambitionbox.com/jobs/search?tag=Data%20Scientist\"\n",
    "driver.get(url)"
   ]
  },
  {
   "cell_type": "code",
   "execution_count": 33,
   "id": "bae76744",
   "metadata": {},
   "outputs": [
    {
     "name": "stderr",
     "output_type": "stream",
     "text": [
      "<ipython-input-33-24734fd1a325>:1: DeprecationWarning: find_element_by_* commands are deprecated. Please use find_element() instead\n",
      "  search_btn=driver.find_element_by_xpath(\"//div[@title='Location']\")\n"
     ]
    }
   ],
   "source": [
    "search_btn=driver.find_element_by_xpath(\"//div[@title='Location']\")\n",
    "search_btn.click()"
   ]
  },
  {
   "cell_type": "code",
   "execution_count": 34,
   "id": "151a81b3",
   "metadata": {},
   "outputs": [
    {
     "name": "stderr",
     "output_type": "stream",
     "text": [
      "<ipython-input-34-f55384b1ee2f>:1: DeprecationWarning: find_element_by_* commands are deprecated. Please use find_element() instead\n",
      "  search=driver.find_element_by_xpath(\"//input[@placeholder='Search locations']\")\n"
     ]
    }
   ],
   "source": [
    "search=driver.find_element_by_xpath(\"//input[@placeholder='Search locations']\")\n",
    "search.send_keys(\"Noida\")"
   ]
  },
  {
   "cell_type": "code",
   "execution_count": 35,
   "id": "880c65db",
   "metadata": {},
   "outputs": [
    {
     "name": "stderr",
     "output_type": "stream",
     "text": [
      "<ipython-input-35-f3717b190811>:1: DeprecationWarning: find_element_by_* commands are deprecated. Please use find_element() instead\n",
      "  search_btn=driver.find_element_by_xpath(\"//input[@data='Noida']\")\n"
     ]
    }
   ],
   "source": [
    "search_btn=driver.find_element_by_xpath(\"//input[@data='Noida']\")\n",
    "search_btn.click()"
   ]
  },
  {
   "cell_type": "code",
   "execution_count": 36,
   "id": "18fbdb7b",
   "metadata": {},
   "outputs": [],
   "source": [
    "url=\"https://www.ambitionbox.com/jobs/search?tag=Data%20Scientist&location=Noida\"\n",
    "driver.get(url)"
   ]
  },
  {
   "cell_type": "code",
   "execution_count": 68,
   "id": "ca230b36",
   "metadata": {},
   "outputs": [
    {
     "name": "stderr",
     "output_type": "stream",
     "text": [
      "<ipython-input-68-10b291e17ce9>:4: DeprecationWarning: find_elements_by_* commands are deprecated. Please use find_elements() instead\n",
      "  title_tags=driver.find_elements_by_xpath(\"//a[@class='title noclick']\")\n",
      "<ipython-input-68-10b291e17ce9>:8: DeprecationWarning: find_elements_by_* commands are deprecated. Please use find_elements() instead\n",
      "  comp_tags=driver.find_elements_by_xpath(\"//div[@class='company-info']\")\n",
      "<ipython-input-68-10b291e17ce9>:12: DeprecationWarning: find_elements_by_* commands are deprecated. Please use find_elements() instead\n",
      "  skills_tags=driver.find_elements_by_xpath(\"//div[@class='entity']\")\n"
     ]
    }
   ],
   "source": [
    "desig=[]\n",
    "comp=[]\n",
    "skills=[]\n",
    "title_tags=driver.find_elements_by_xpath(\"//a[@class='title noclick']\")\n",
    "for i in title_tags:\n",
    "    i=i.text\n",
    "    desig.append(i)\n",
    "comp_tags=driver.find_elements_by_xpath(\"//div[@class='company-info']\")\n",
    "for i in comp_tags:\n",
    "    i=i.text\n",
    "    comp.append(i)\n",
    "skills_tags=driver.find_elements_by_xpath(\"//div[@class='entity']\")\n",
    "for i in skills_tags:\n",
    "    i=i.text\n",
    "    skills.append(i)"
   ]
  },
  {
   "cell_type": "code",
   "execution_count": 69,
   "id": "38d9cabd",
   "metadata": {},
   "outputs": [],
   "source": [
    "desig=desig[:10]\n",
    "comp=comp[:10]\n",
    "skills1=skills[4:-9:3]\n",
    "skills2=skills[-8:-3:2]\n",
    "skills3=skills[-1]\n",
    "skills4=skills1+skills2\n",
    "skills4.append(skills[-1])"
   ]
  },
  {
   "cell_type": "code",
   "execution_count": 70,
   "id": "66a3f14f",
   "metadata": {},
   "outputs": [],
   "source": [
    "job=pd.DataFrame({})\n",
    "job['Designation']=desig\n",
    "job['Company']=comp\n",
    "job['Skills']=skills4"
   ]
  },
  {
   "cell_type": "code",
   "execution_count": 71,
   "id": "51fd0eb5",
   "metadata": {},
   "outputs": [
    {
     "data": {
      "text/html": [
       "<div>\n",
       "<style scoped>\n",
       "    .dataframe tbody tr th:only-of-type {\n",
       "        vertical-align: middle;\n",
       "    }\n",
       "\n",
       "    .dataframe tbody tr th {\n",
       "        vertical-align: top;\n",
       "    }\n",
       "\n",
       "    .dataframe thead th {\n",
       "        text-align: right;\n",
       "    }\n",
       "</style>\n",
       "<table border=\"1\" class=\"dataframe\">\n",
       "  <thead>\n",
       "    <tr style=\"text-align: right;\">\n",
       "      <th></th>\n",
       "      <th>Designation</th>\n",
       "      <th>Company</th>\n",
       "      <th>Skills</th>\n",
       "    </tr>\n",
       "  </thead>\n",
       "  <tbody>\n",
       "    <tr>\n",
       "      <th>0</th>\n",
       "      <td>Data Scientist</td>\n",
       "      <td>Optum Global Solutions (India) Private Limited...</td>\n",
       "      <td>Python, Machine Learning, Random Forest +9 more</td>\n",
       "    </tr>\n",
       "    <tr>\n",
       "      <th>1</th>\n",
       "      <td>Group Lead-Data Scientist</td>\n",
       "      <td>Optum Global Solutions (India) Private Limited...</td>\n",
       "      <td>Technical support, Networking, SAS +7 more</td>\n",
       "    </tr>\n",
       "    <tr>\n",
       "      <th>2</th>\n",
       "      <td>Data Scientist</td>\n",
       "      <td>Ameriprise Financial\\n4.1\\n(250 Reviews)</td>\n",
       "      <td>Random Forest, Python, R +4 more</td>\n",
       "    </tr>\n",
       "    <tr>\n",
       "      <th>3</th>\n",
       "      <td>Urgent Vacancy || Data Scientist || Noida</td>\n",
       "      <td>Optum Global Solutions (India) Private Limited...</td>\n",
       "      <td>Teradata SQL, Python, Hadoop +1 more</td>\n",
       "    </tr>\n",
       "    <tr>\n",
       "      <th>4</th>\n",
       "      <td>Urgent Requirement || Data Scientist || Noida</td>\n",
       "      <td>Steria India Ltd\\n4.1\\n(829 Reviews)</td>\n",
       "      <td>Pyspark, Python, Jupyter +7 more</td>\n",
       "    </tr>\n",
       "    <tr>\n",
       "      <th>5</th>\n",
       "      <td>Senior Data Scientist</td>\n",
       "      <td>Steria India Ltd\\n4.1\\n(829 Reviews)</td>\n",
       "      <td>Python, Pyspark, Deep Learning +12 more</td>\n",
       "    </tr>\n",
       "    <tr>\n",
       "      <th>6</th>\n",
       "      <td>Data Scientist - Machine Learning (5-14 yrs)</td>\n",
       "      <td>HCL Technologies Limited\\n3.8\\n(13.2k Reviews)</td>\n",
       "      <td>Data Scientist, Data Management, PhD +6 more</td>\n",
       "    </tr>\n",
       "    <tr>\n",
       "      <th>7</th>\n",
       "      <td>Data Scientist - Consulting Firm (8-15 yrs)</td>\n",
       "      <td>Zyoin\\n4.2\\n(61 Reviews)</td>\n",
       "      <td>Data Science, Data Scientist, Data Management ...</td>\n",
       "    </tr>\n",
       "    <tr>\n",
       "      <th>8</th>\n",
       "      <td>Manager - Data Scientist - Retail/BFSI (8-15 yrs)</td>\n",
       "      <td>GI Group\\n3.9\\n(68 Reviews)</td>\n",
       "      <td>Data Analytics, Data Scientist, Data Visualiza...</td>\n",
       "    </tr>\n",
       "    <tr>\n",
       "      <th>9</th>\n",
       "      <td>Data Scientist: Artificial Intelligence</td>\n",
       "      <td>GI Group\\n3.9\\n(68 Reviews)</td>\n",
       "      <td>SQL, Automation, Python +7 more</td>\n",
       "    </tr>\n",
       "  </tbody>\n",
       "</table>\n",
       "</div>"
      ],
      "text/plain": [
       "                                         Designation  \\\n",
       "0                                     Data Scientist   \n",
       "1                          Group Lead-Data Scientist   \n",
       "2                                     Data Scientist   \n",
       "3          Urgent Vacancy || Data Scientist || Noida   \n",
       "4      Urgent Requirement || Data Scientist || Noida   \n",
       "5                              Senior Data Scientist   \n",
       "6       Data Scientist - Machine Learning (5-14 yrs)   \n",
       "7        Data Scientist - Consulting Firm (8-15 yrs)   \n",
       "8  Manager - Data Scientist - Retail/BFSI (8-15 yrs)   \n",
       "9            Data Scientist: Artificial Intelligence   \n",
       "\n",
       "                                             Company  \\\n",
       "0  Optum Global Solutions (India) Private Limited...   \n",
       "1  Optum Global Solutions (India) Private Limited...   \n",
       "2           Ameriprise Financial\\n4.1\\n(250 Reviews)   \n",
       "3  Optum Global Solutions (India) Private Limited...   \n",
       "4               Steria India Ltd\\n4.1\\n(829 Reviews)   \n",
       "5               Steria India Ltd\\n4.1\\n(829 Reviews)   \n",
       "6     HCL Technologies Limited\\n3.8\\n(13.2k Reviews)   \n",
       "7                           Zyoin\\n4.2\\n(61 Reviews)   \n",
       "8                        GI Group\\n3.9\\n(68 Reviews)   \n",
       "9                        GI Group\\n3.9\\n(68 Reviews)   \n",
       "\n",
       "                                              Skills  \n",
       "0    Python, Machine Learning, Random Forest +9 more  \n",
       "1         Technical support, Networking, SAS +7 more  \n",
       "2                   Random Forest, Python, R +4 more  \n",
       "3               Teradata SQL, Python, Hadoop +1 more  \n",
       "4                   Pyspark, Python, Jupyter +7 more  \n",
       "5            Python, Pyspark, Deep Learning +12 more  \n",
       "6       Data Scientist, Data Management, PhD +6 more  \n",
       "7  Data Science, Data Scientist, Data Management ...  \n",
       "8  Data Analytics, Data Scientist, Data Visualiza...  \n",
       "9                    SQL, Automation, Python +7 more  "
      ]
     },
     "execution_count": 71,
     "metadata": {},
     "output_type": "execute_result"
    }
   ],
   "source": [
    "job"
   ]
  },
  {
   "cell_type": "markdown",
   "id": "16793303",
   "metadata": {},
   "source": [
    "## Q10"
   ]
  },
  {
   "cell_type": "code",
   "execution_count": 154,
   "id": "82ac8a99",
   "metadata": {},
   "outputs": [],
   "source": [
    "driver.get('https://www.ambitionbox.com/')"
   ]
  },
  {
   "cell_type": "code",
   "execution_count": 155,
   "id": "5b966556",
   "metadata": {},
   "outputs": [
    {
     "name": "stderr",
     "output_type": "stream",
     "text": [
      "<ipython-input-155-c02affcf4a1e>:1: DeprecationWarning: find_element_by_* commands are deprecated. Please use find_element() instead\n",
      "  search_btn=driver.find_element_by_xpath(\"//a[@class='link salaries']\")\n"
     ]
    }
   ],
   "source": [
    "search_btn=driver.find_element_by_xpath(\"//a[@class='link salaries']\")\n",
    "search_btn.click()"
   ]
  },
  {
   "cell_type": "code",
   "execution_count": 156,
   "id": "33bc385d",
   "metadata": {},
   "outputs": [],
   "source": [
    "url=\"https://www.ambitionbox.com/salaries\"\n",
    "driver.get(url)"
   ]
  },
  {
   "cell_type": "code",
   "execution_count": 157,
   "id": "eb26bda8",
   "metadata": {},
   "outputs": [
    {
     "name": "stderr",
     "output_type": "stream",
     "text": [
      "<ipython-input-157-2bea11b159bb>:1: DeprecationWarning: find_element_by_* commands are deprecated. Please use find_element() instead\n",
      "  search=driver.find_element_by_xpath('//input[@class=\"component-input tt-input\"]')\n"
     ]
    }
   ],
   "source": [
    "search=driver.find_element_by_xpath('//input[@class=\"component-input tt-input\"]')\n",
    "search.send_keys(\"Data Scientist\")"
   ]
  },
  {
   "cell_type": "code",
   "execution_count": 158,
   "id": "50911d0a",
   "metadata": {},
   "outputs": [
    {
     "name": "stderr",
     "output_type": "stream",
     "text": [
      "<ipython-input-158-481bfaf27ef6>:1: DeprecationWarning: find_element_by_* commands are deprecated. Please use find_element() instead\n",
      "  search_btn=driver.find_element_by_xpath(\"/html/body/div/div/div/div[2]/div/div/div/div[1]/span/div/div[2]/div[2]/div[2]/div/p\")\n",
      "<ipython-input-158-481bfaf27ef6>:3: DeprecationWarning: find_element_by_* commands are deprecated. Please use find_element() instead\n",
      "  search_btn=driver.find_element_by_xpath(\"//button[@class='ab_btn search-btn round component-search-btn']\")\n"
     ]
    }
   ],
   "source": [
    "search_btn=driver.find_element_by_xpath(\"/html/body/div/div/div/div[2]/div/div/div/div[1]/span/div/div[2]/div[2]/div[2]/div/p\")\n",
    "search_btn.click()\n",
    "search_btn=driver.find_element_by_xpath(\"//button[@class='ab_btn search-btn round component-search-btn']\")\n",
    "search_btn.click()"
   ]
  },
  {
   "cell_type": "code",
   "execution_count": 171,
   "id": "0cd37cc3",
   "metadata": {},
   "outputs": [
    {
     "name": "stderr",
     "output_type": "stream",
     "text": [
      "<ipython-input-171-b7658ff8f012>:8: DeprecationWarning: find_elements_by_* commands are deprecated. Please use find_elements() instead\n",
      "  comp_tags=driver.find_elements_by_xpath(\"//div[@class='name']/a\")\n",
      "<ipython-input-171-b7658ff8f012>:12: DeprecationWarning: find_elements_by_* commands are deprecated. Please use find_elements() instead\n",
      "  totsal_tags=driver.find_elements_by_xpath(\"//div[@class='name']/span\")\n",
      "<ipython-input-171-b7658ff8f012>:16: DeprecationWarning: find_elements_by_* commands are deprecated. Please use find_elements() instead\n",
      "  avgsal_tags=driver.find_elements_by_xpath(\"//p[@class='averageCtc']\")\n",
      "<ipython-input-171-b7658ff8f012>:21: DeprecationWarning: find_elements_by_* commands are deprecated. Please use find_elements() instead\n",
      "  minsal_tags=driver.find_elements_by_xpath(\"//div[@class='salary-values']\")\n",
      "<ipython-input-171-b7658ff8f012>:26: DeprecationWarning: find_elements_by_* commands are deprecated. Please use find_elements() instead\n",
      "  expreq_tags=driver.find_elements_by_xpath(\"//div[@class='salaries one-line sbold-list-header']\")\n"
     ]
    }
   ],
   "source": [
    "comp=[]\n",
    "totsal=[]\n",
    "avgsal=[]\n",
    "minsal=[]\n",
    "maxsal=[]\n",
    "expreq=[]\n",
    "sal=[]\n",
    "comp_tags=driver.find_elements_by_xpath(\"//div[@class='name']/a\")\n",
    "for i in comp_tags:\n",
    "    i=i.text\n",
    "    comp.append(i)\n",
    "totsal_tags=driver.find_elements_by_xpath(\"//div[@class='name']/span\")\n",
    "for i in totsal_tags:\n",
    "    i=i.text\n",
    "    totsal.append(i)\n",
    "avgsal_tags=driver.find_elements_by_xpath(\"//p[@class='averageCtc']\")\n",
    "for i in avgsal_tags:\n",
    "    i=i.text\n",
    "    avgsal.append(i)\n",
    "avgsal=avgsal[9:]\n",
    "minsal_tags=driver.find_elements_by_xpath(\"//div[@class='salary-values']\")\n",
    "for i in minsal_tags:\n",
    "    i=i.text\n",
    "    sal.append(i)\n",
    "sal=sal[9:]\n",
    "expreq_tags=driver.find_elements_by_xpath(\"//div[@class='salaries one-line sbold-list-header']\")\n",
    "for i in expreq_tags:\n",
    "    i=i.text\n",
    "    expreq.append(i)"
   ]
  },
  {
   "cell_type": "code",
   "execution_count": 172,
   "id": "bc345009",
   "metadata": {},
   "outputs": [],
   "source": [
    "for i in sal:\n",
    "    k=i.split(\"\\n\")\n",
    "    minsal.append(k[0])\n",
    "    maxsal.append(k[1])"
   ]
  },
  {
   "cell_type": "code",
   "execution_count": 173,
   "id": "f04f58f3",
   "metadata": {},
   "outputs": [],
   "source": [
    "job=pd.DataFrame({})\n",
    "job['Company']=comp\n",
    "job['Total Salary Record']=totsal\n",
    "job['Avg Salary']=avgsal\n",
    "job['Min Salary']=minsal\n",
    "job['Max Salary']=maxsal\n",
    "job['Exp Required']=expreq"
   ]
  },
  {
   "cell_type": "code",
   "execution_count": 174,
   "id": "b39a91c3",
   "metadata": {},
   "outputs": [
    {
     "data": {
      "text/html": [
       "<div>\n",
       "<style scoped>\n",
       "    .dataframe tbody tr th:only-of-type {\n",
       "        vertical-align: middle;\n",
       "    }\n",
       "\n",
       "    .dataframe tbody tr th {\n",
       "        vertical-align: top;\n",
       "    }\n",
       "\n",
       "    .dataframe thead th {\n",
       "        text-align: right;\n",
       "    }\n",
       "</style>\n",
       "<table border=\"1\" class=\"dataframe\">\n",
       "  <thead>\n",
       "    <tr style=\"text-align: right;\">\n",
       "      <th></th>\n",
       "      <th>Company</th>\n",
       "      <th>Total Salary Record</th>\n",
       "      <th>Avg Salary</th>\n",
       "      <th>Min Salary</th>\n",
       "      <th>Max Salary</th>\n",
       "      <th>Exp Required</th>\n",
       "    </tr>\n",
       "  </thead>\n",
       "  <tbody>\n",
       "    <tr>\n",
       "      <th>0</th>\n",
       "      <td>TCS</td>\n",
       "      <td>(583 Salaries)</td>\n",
       "      <td>₹ 7.3L</td>\n",
       "      <td>₹ 4.4L</td>\n",
       "      <td>₹ 15.0L</td>\n",
       "      <td>2-9 yrs exp</td>\n",
       "    </tr>\n",
       "    <tr>\n",
       "      <th>1</th>\n",
       "      <td>Accenture</td>\n",
       "      <td>(353 Salaries)</td>\n",
       "      <td>₹ 11.7L</td>\n",
       "      <td>₹ 5.4L</td>\n",
       "      <td>₹ 22.0L</td>\n",
       "      <td>2-9 yrs exp</td>\n",
       "    </tr>\n",
       "    <tr>\n",
       "      <th>2</th>\n",
       "      <td>IBM</td>\n",
       "      <td>(284 Salaries)</td>\n",
       "      <td>₹ 11.6L</td>\n",
       "      <td>₹ 5.0L</td>\n",
       "      <td>₹ 22.5L</td>\n",
       "      <td>2-12 yrs exp</td>\n",
       "    </tr>\n",
       "    <tr>\n",
       "      <th>3</th>\n",
       "      <td>Cognizant</td>\n",
       "      <td>(227 Salaries)</td>\n",
       "      <td>₹ 9.4L</td>\n",
       "      <td>₹ 4.8L</td>\n",
       "      <td>₹ 17.0L</td>\n",
       "      <td>2-11 yrs exp</td>\n",
       "    </tr>\n",
       "    <tr>\n",
       "      <th>4</th>\n",
       "      <td>Capgemini</td>\n",
       "      <td>(214 Salaries)</td>\n",
       "      <td>₹ 8.2L</td>\n",
       "      <td>₹ 4.6L</td>\n",
       "      <td>₹ 14.3L</td>\n",
       "      <td>2-8 yrs exp</td>\n",
       "    </tr>\n",
       "    <tr>\n",
       "      <th>5</th>\n",
       "      <td>Tech Mahindra</td>\n",
       "      <td>(181 Salaries)</td>\n",
       "      <td>₹ 7.8L</td>\n",
       "      <td>₹ 4.2L</td>\n",
       "      <td>₹ 16.4L</td>\n",
       "      <td>2-13 yrs exp</td>\n",
       "    </tr>\n",
       "    <tr>\n",
       "      <th>6</th>\n",
       "      <td>Infosys</td>\n",
       "      <td>(163 Salaries)</td>\n",
       "      <td>₹ 8.7L</td>\n",
       "      <td>₹ 4.5L</td>\n",
       "      <td>₹ 25.0L</td>\n",
       "      <td>2-8 yrs exp</td>\n",
       "    </tr>\n",
       "    <tr>\n",
       "      <th>7</th>\n",
       "      <td>Wipro</td>\n",
       "      <td>(157 Salaries)</td>\n",
       "      <td>₹ 9.0L</td>\n",
       "      <td>₹ 4.3L</td>\n",
       "      <td>₹ 17.0L</td>\n",
       "      <td>2-9 yrs exp</td>\n",
       "    </tr>\n",
       "    <tr>\n",
       "      <th>8</th>\n",
       "      <td>Ericsson</td>\n",
       "      <td>(122 Salaries)</td>\n",
       "      <td>₹ 12.9L</td>\n",
       "      <td>₹ 5.0L</td>\n",
       "      <td>₹ 25.0L</td>\n",
       "      <td>2-12 yrs exp</td>\n",
       "    </tr>\n",
       "    <tr>\n",
       "      <th>9</th>\n",
       "      <td>HCL Technologies</td>\n",
       "      <td>(116 Salaries)</td>\n",
       "      <td>₹ 9.0L</td>\n",
       "      <td>₹ 4.5L</td>\n",
       "      <td>₹ 19.0L</td>\n",
       "      <td>2-10 yrs exp</td>\n",
       "    </tr>\n",
       "  </tbody>\n",
       "</table>\n",
       "</div>"
      ],
      "text/plain": [
       "            Company Total Salary Record Avg Salary Min Salary Max Salary  \\\n",
       "0               TCS      (583 Salaries)     ₹ 7.3L     ₹ 4.4L    ₹ 15.0L   \n",
       "1         Accenture      (353 Salaries)    ₹ 11.7L     ₹ 5.4L    ₹ 22.0L   \n",
       "2               IBM      (284 Salaries)    ₹ 11.6L     ₹ 5.0L    ₹ 22.5L   \n",
       "3         Cognizant      (227 Salaries)     ₹ 9.4L     ₹ 4.8L    ₹ 17.0L   \n",
       "4         Capgemini      (214 Salaries)     ₹ 8.2L     ₹ 4.6L    ₹ 14.3L   \n",
       "5     Tech Mahindra      (181 Salaries)     ₹ 7.8L     ₹ 4.2L    ₹ 16.4L   \n",
       "6           Infosys      (163 Salaries)     ₹ 8.7L     ₹ 4.5L    ₹ 25.0L   \n",
       "7             Wipro      (157 Salaries)     ₹ 9.0L     ₹ 4.3L    ₹ 17.0L   \n",
       "8          Ericsson      (122 Salaries)    ₹ 12.9L     ₹ 5.0L    ₹ 25.0L   \n",
       "9  HCL Technologies      (116 Salaries)     ₹ 9.0L     ₹ 4.5L    ₹ 19.0L   \n",
       "\n",
       "   Exp Required  \n",
       "0   2-9 yrs exp  \n",
       "1   2-9 yrs exp  \n",
       "2  2-12 yrs exp  \n",
       "3  2-11 yrs exp  \n",
       "4   2-8 yrs exp  \n",
       "5  2-13 yrs exp  \n",
       "6   2-8 yrs exp  \n",
       "7   2-9 yrs exp  \n",
       "8  2-12 yrs exp  \n",
       "9  2-10 yrs exp  "
      ]
     },
     "execution_count": 174,
     "metadata": {},
     "output_type": "execute_result"
    }
   ],
   "source": [
    "job"
   ]
  }
 ],
 "metadata": {
  "kernelspec": {
   "display_name": "Python 3",
   "language": "python",
   "name": "python3"
  },
  "language_info": {
   "codemirror_mode": {
    "name": "ipython",
    "version": 3
   },
   "file_extension": ".py",
   "mimetype": "text/x-python",
   "name": "python",
   "nbconvert_exporter": "python",
   "pygments_lexer": "ipython3",
   "version": "3.8.8"
  }
 },
 "nbformat": 4,
 "nbformat_minor": 5
}
