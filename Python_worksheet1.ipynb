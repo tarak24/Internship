{
 "cells": [
  {
   "cell_type": "markdown",
   "id": "be06cf17",
   "metadata": {},
   "source": [
    "# PYTHON WORKSHEET 1"
   ]
  },
  {
   "cell_type": "markdown",
   "id": "96b7706d",
   "metadata": {},
   "source": [
    "### Q11"
   ]
  },
  {
   "cell_type": "code",
   "execution_count": 1,
   "id": "f0de6d6e",
   "metadata": {},
   "outputs": [
    {
     "name": "stdout",
     "output_type": "stream",
     "text": [
      "120\n",
      "24\n",
      "40320\n",
      "3628800\n"
     ]
    }
   ],
   "source": [
    "def fac(n):\n",
    "    sol=1\n",
    "    for i in range(2,n+1):\n",
    "        sol=sol*i\n",
    "    print(sol)\n",
    "fac(5)\n",
    "fac(4)\n",
    "fac(8)\n",
    "fac(10)"
   ]
  },
  {
   "cell_type": "markdown",
   "id": "f4892973",
   "metadata": {},
   "source": [
    "### Q12"
   ]
  },
  {
   "cell_type": "code",
   "execution_count": 2,
   "id": "ab5b648b",
   "metadata": {},
   "outputs": [
    {
     "name": "stdout",
     "output_type": "stream",
     "text": [
      "Prime Number\n",
      "Composite Number\n",
      "Composite Number\n",
      "Prime Number\n"
     ]
    }
   ],
   "source": [
    "def prc(a):\n",
    "    for j in range(2,(a//2)+1):\n",
    "        if a%j==0:\n",
    "            flag=0\n",
    "            break\n",
    "        else:\n",
    "            flag=1\n",
    "    if flag==1:\n",
    "        print(\"Prime Number\")\n",
    "    elif flag==0:\n",
    "        print(\"Composite Number\")\n",
    "prc(13)\n",
    "prc(18)\n",
    "prc(25)\n",
    "prc(7)"
   ]
  },
  {
   "cell_type": "markdown",
   "id": "80c0ebb1",
   "metadata": {},
   "source": [
    "### Q13"
   ]
  },
  {
   "cell_type": "code",
   "execution_count": 3,
   "id": "e6407188",
   "metadata": {},
   "outputs": [
    {
     "name": "stdout",
     "output_type": "stream",
     "text": [
      "Not a Palindrome\n",
      "Palindrome\n"
     ]
    }
   ],
   "source": [
    "def pal(s):\n",
    "    q=s[::-1]\n",
    "    if s==q:\n",
    "        print(\"Palindrome\")\n",
    "    else:\n",
    "        print(\"Not a Palindrome\")\n",
    "pal('haesesh')\n",
    "pal('eiuyuie')"
   ]
  },
  {
   "cell_type": "markdown",
   "id": "392649f0",
   "metadata": {},
   "source": [
    "### Q14"
   ]
  },
  {
   "cell_type": "code",
   "execution_count": 4,
   "id": "41cb27b0",
   "metadata": {},
   "outputs": [
    {
     "name": "stdout",
     "output_type": "stream",
     "text": [
      "Third side is: 5.0\n",
      "Third side is: 17.0\n"
     ]
    }
   ],
   "source": [
    "import math\n",
    "def righ(x,y):\n",
    "    hyp=math.sqrt((x**2)+(y**2))\n",
    "    print('Third side is:',hyp)\n",
    "righ(3,4)\n",
    "righ(8,15)"
   ]
  },
  {
   "cell_type": "markdown",
   "id": "81e31649",
   "metadata": {},
   "source": [
    "## Q15"
   ]
  },
  {
   "cell_type": "code",
   "execution_count": 5,
   "id": "3b0a4547",
   "metadata": {},
   "outputs": [
    {
     "name": "stdout",
     "output_type": "stream",
     "text": [
      "Count of all characters: {'t': 1, 'a': 4, 'r': 2, 'k': 1, ' ': 2, 'm': 1, 's': 1, 'i': 1}\n",
      "Count of all characters: {'f': 1, 'l': 1, 'i': 1, 'p': 1, 'r': 1, 'o': 2, 'b': 1}\n"
     ]
    }
   ],
   "source": [
    "def cou(s):\n",
    "    all_freq = {}\n",
    "    for i in s:\n",
    "        if i in all_freq:\n",
    "            all_freq[i] += 1\n",
    "        else:\n",
    "            all_freq[i] = 1\n",
    "    print (\"Count of all characters:\",all_freq)\n",
    "cou(\"tarak ram sai\")\n",
    "cou(\"fliprobo\")"
   ]
  },
  {
   "cell_type": "code",
   "execution_count": null,
   "id": "dd4a8233",
   "metadata": {},
   "outputs": [],
   "source": []
  }
 ],
 "metadata": {
  "kernelspec": {
   "display_name": "Python 3",
   "language": "python",
   "name": "python3"
  },
  "language_info": {
   "codemirror_mode": {
    "name": "ipython",
    "version": 3
   },
   "file_extension": ".py",
   "mimetype": "text/x-python",
   "name": "python",
   "nbconvert_exporter": "python",
   "pygments_lexer": "ipython3",
   "version": "3.8.8"
  }
 },
 "nbformat": 4,
 "nbformat_minor": 5
}
